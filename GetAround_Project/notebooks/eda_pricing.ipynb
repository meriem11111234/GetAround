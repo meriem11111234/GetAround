{
 "cells": [
  {
   "cell_type": "markdown",
   "metadata": {},
   "source": [
    "# Exploratory data analysis on rental pricing of Getaround Data\n",
    "Let's dive into given data to figure out\n",
    "*    how complete dataset is\n",
    "*    what are the feature (column) distributions like\n",
    "*    identifying outliers\n",
    "*    any relationship between target and features\n"
   ]
  },
  {
   "cell_type": "markdown",
   "metadata": {},
   "source": [
    "## Setup libraries and data"
   ]
  },
  {
   "cell_type": "code",
   "execution_count": 6,
   "metadata": {},
   "outputs": [],
   "source": [
    "import pandas as pd\n",
    "import numpy as np\n",
    "\n",
    "import matplotlib.pyplot as plt\n",
    "import seaborn as sns"
   ]
  },
  {
   "cell_type": "code",
   "execution_count": 7,
   "metadata": {},
   "outputs": [],
   "source": [
    "f_pricing= '../data/get_around_pricing_project.csv'"
   ]
  },
  {
   "cell_type": "code",
   "execution_count": 8,
   "metadata": {},
   "outputs": [
    {
     "data": {
      "text/html": [
       "<div>\n",
       "<style scoped>\n",
       "    .dataframe tbody tr th:only-of-type {\n",
       "        vertical-align: middle;\n",
       "    }\n",
       "\n",
       "    .dataframe tbody tr th {\n",
       "        vertical-align: top;\n",
       "    }\n",
       "\n",
       "    .dataframe thead th {\n",
       "        text-align: right;\n",
       "    }\n",
       "</style>\n",
       "<table border=\"1\" class=\"dataframe\">\n",
       "  <thead>\n",
       "    <tr style=\"text-align: right;\">\n",
       "      <th></th>\n",
       "      <th>model_key</th>\n",
       "      <th>mileage</th>\n",
       "      <th>engine_power</th>\n",
       "      <th>fuel</th>\n",
       "      <th>paint_color</th>\n",
       "      <th>car_type</th>\n",
       "      <th>private_parking_available</th>\n",
       "      <th>has_gps</th>\n",
       "      <th>has_air_conditioning</th>\n",
       "      <th>automatic_car</th>\n",
       "      <th>has_getaround_connect</th>\n",
       "      <th>has_speed_regulator</th>\n",
       "      <th>winter_tires</th>\n",
       "      <th>rental_price_per_day</th>\n",
       "    </tr>\n",
       "  </thead>\n",
       "  <tbody>\n",
       "    <tr>\n",
       "      <th>0</th>\n",
       "      <td>Citroën</td>\n",
       "      <td>140411</td>\n",
       "      <td>100</td>\n",
       "      <td>diesel</td>\n",
       "      <td>black</td>\n",
       "      <td>convertible</td>\n",
       "      <td>True</td>\n",
       "      <td>True</td>\n",
       "      <td>False</td>\n",
       "      <td>False</td>\n",
       "      <td>True</td>\n",
       "      <td>True</td>\n",
       "      <td>True</td>\n",
       "      <td>106</td>\n",
       "    </tr>\n",
       "    <tr>\n",
       "      <th>1</th>\n",
       "      <td>Citroën</td>\n",
       "      <td>13929</td>\n",
       "      <td>317</td>\n",
       "      <td>petrol</td>\n",
       "      <td>grey</td>\n",
       "      <td>convertible</td>\n",
       "      <td>True</td>\n",
       "      <td>True</td>\n",
       "      <td>False</td>\n",
       "      <td>False</td>\n",
       "      <td>False</td>\n",
       "      <td>True</td>\n",
       "      <td>True</td>\n",
       "      <td>264</td>\n",
       "    </tr>\n",
       "    <tr>\n",
       "      <th>2</th>\n",
       "      <td>Citroën</td>\n",
       "      <td>183297</td>\n",
       "      <td>120</td>\n",
       "      <td>diesel</td>\n",
       "      <td>white</td>\n",
       "      <td>convertible</td>\n",
       "      <td>False</td>\n",
       "      <td>False</td>\n",
       "      <td>False</td>\n",
       "      <td>False</td>\n",
       "      <td>True</td>\n",
       "      <td>False</td>\n",
       "      <td>True</td>\n",
       "      <td>101</td>\n",
       "    </tr>\n",
       "    <tr>\n",
       "      <th>3</th>\n",
       "      <td>Citroën</td>\n",
       "      <td>128035</td>\n",
       "      <td>135</td>\n",
       "      <td>diesel</td>\n",
       "      <td>red</td>\n",
       "      <td>convertible</td>\n",
       "      <td>True</td>\n",
       "      <td>True</td>\n",
       "      <td>False</td>\n",
       "      <td>False</td>\n",
       "      <td>True</td>\n",
       "      <td>True</td>\n",
       "      <td>True</td>\n",
       "      <td>158</td>\n",
       "    </tr>\n",
       "    <tr>\n",
       "      <th>4</th>\n",
       "      <td>Citroën</td>\n",
       "      <td>97097</td>\n",
       "      <td>160</td>\n",
       "      <td>diesel</td>\n",
       "      <td>silver</td>\n",
       "      <td>convertible</td>\n",
       "      <td>True</td>\n",
       "      <td>True</td>\n",
       "      <td>False</td>\n",
       "      <td>False</td>\n",
       "      <td>False</td>\n",
       "      <td>True</td>\n",
       "      <td>True</td>\n",
       "      <td>183</td>\n",
       "    </tr>\n",
       "  </tbody>\n",
       "</table>\n",
       "</div>"
      ],
      "text/plain": [
       "  model_key  mileage  engine_power    fuel paint_color     car_type  \\\n",
       "0   Citroën   140411           100  diesel       black  convertible   \n",
       "1   Citroën    13929           317  petrol        grey  convertible   \n",
       "2   Citroën   183297           120  diesel       white  convertible   \n",
       "3   Citroën   128035           135  diesel         red  convertible   \n",
       "4   Citroën    97097           160  diesel      silver  convertible   \n",
       "\n",
       "   private_parking_available  has_gps  has_air_conditioning  automatic_car  \\\n",
       "0                       True     True                 False          False   \n",
       "1                       True     True                 False          False   \n",
       "2                      False    False                 False          False   \n",
       "3                       True     True                 False          False   \n",
       "4                       True     True                 False          False   \n",
       "\n",
       "   has_getaround_connect  has_speed_regulator  winter_tires  \\\n",
       "0                   True                 True          True   \n",
       "1                  False                 True          True   \n",
       "2                   True                False          True   \n",
       "3                   True                 True          True   \n",
       "4                  False                 True          True   \n",
       "\n",
       "   rental_price_per_day  \n",
       "0                   106  \n",
       "1                   264  \n",
       "2                   101  \n",
       "3                   158  \n",
       "4                   183  "
      ]
     },
     "execution_count": 8,
     "metadata": {},
     "output_type": "execute_result"
    }
   ],
   "source": [
    "dataset = pd.read_csv(f_pricing,index_col=0)\n",
    "dataset.head(5)\n"
   ]
  },
  {
   "cell_type": "markdown",
   "metadata": {},
   "source": [
    "## Any missing data? \n",
    "\n",
    "Any missing data? Data distribution?"
   ]
  },
  {
   "cell_type": "code",
   "execution_count": null,
   "metadata": {},
   "outputs": [],
   "source": []
  },
  {
   "cell_type": "code",
   "execution_count": 10,
   "metadata": {},
   "outputs": [],
   "source": [
    "cols_cat  = ['model_key',  'fuel', 'paint_color',\n",
    "            'car_type', 'private_parking_available', 'has_gps',\n",
    "            'has_air_conditioning', 'automatic_car', 'has_getaround_connect',\n",
    "            'has_speed_regulator', 'winter_tires']\n",
    "cols_num = ['mileage', 'engine_power','rental_price_per_day']"
   ]
  },
  {
   "cell_type": "markdown",
   "metadata": {},
   "source": [
    "## Distribution of categorical features"
   ]
  },
  {
   "cell_type": "code",
   "execution_count": 11,
   "metadata": {},
   "outputs": [
    {
     "data": {
      "text/plain": [
       "Citroën        969\n",
       "Renault        916\n",
       "BMW            827\n",
       "Peugeot        642\n",
       "Audi           526\n",
       "Nissan         275\n",
       "Mitsubishi     231\n",
       "Mercedes        97\n",
       "Volkswagen      65\n",
       "Toyota          53\n",
       "SEAT            46\n",
       "Subaru          44\n",
       "Opel            33\n",
       "Ferrari         33\n",
       "PGO             33\n",
       "Maserati        18\n",
       "Suzuki           8\n",
       "Porsche          6\n",
       "Ford             5\n",
       "KIA Motors       3\n",
       "Alfa Romeo       3\n",
       "Fiat             2\n",
       "Lexus            2\n",
       "Lamborghini      2\n",
       "Mini             1\n",
       "Mazda            1\n",
       "Honda            1\n",
       "Yamaha           1\n",
       "Name: model_key, dtype: int64"
      ]
     },
     "execution_count": 11,
     "metadata": {},
     "output_type": "execute_result"
    }
   ],
   "source": [
    "dataset[cols_cat[0]].value_counts(dropna=False)"
   ]
  },
  {
   "cell_type": "code",
   "execution_count": 12,
   "metadata": {},
   "outputs": [
    {
     "data": {
      "text/plain": [
       "diesel           4641\n",
       "petrol            191\n",
       "hybrid_petrol       8\n",
       "electro             3\n",
       "Name: fuel, dtype: int64"
      ]
     },
     "execution_count": 12,
     "metadata": {},
     "output_type": "execute_result"
    }
   ],
   "source": [
    "dataset[cols_cat[1]].value_counts(dropna=False)"
   ]
  },
  {
   "cell_type": "code",
   "execution_count": 13,
   "metadata": {},
   "outputs": [
    {
     "data": {
      "text/plain": [
       "black     1633\n",
       "grey      1175\n",
       "blue       710\n",
       "white      538\n",
       "brown      341\n",
       "silver     329\n",
       "red         52\n",
       "beige       41\n",
       "green       18\n",
       "orange       6\n",
       "Name: paint_color, dtype: int64"
      ]
     },
     "execution_count": 13,
     "metadata": {},
     "output_type": "execute_result"
    }
   ],
   "source": [
    "dataset[cols_cat[2]].value_counts(dropna=False)"
   ]
  },
  {
   "cell_type": "code",
   "execution_count": 14,
   "metadata": {},
   "outputs": [
    {
     "data": {
      "text/plain": [
       "estate         1606\n",
       "sedan          1168\n",
       "suv            1058\n",
       "hatchback       699\n",
       "subcompact      117\n",
       "coupe           104\n",
       "convertible      47\n",
       "van              44\n",
       "Name: car_type, dtype: int64"
      ]
     },
     "execution_count": 14,
     "metadata": {},
     "output_type": "execute_result"
    }
   ],
   "source": [
    "dataset[cols_cat[3]].value_counts(dropna=False)"
   ]
  },
  {
   "cell_type": "code",
   "execution_count": 15,
   "metadata": {},
   "outputs": [
    {
     "data": {
      "text/plain": [
       "True     2662\n",
       "False    2181\n",
       "Name: private_parking_available, dtype: int64"
      ]
     },
     "execution_count": 15,
     "metadata": {},
     "output_type": "execute_result"
    }
   ],
   "source": [
    "dataset[cols_cat[4]].value_counts(dropna=False)"
   ]
  },
  {
   "cell_type": "code",
   "execution_count": 16,
   "metadata": {},
   "outputs": [
    {
     "data": {
      "text/plain": [
       "True     3839\n",
       "False    1004\n",
       "Name: has_gps, dtype: int64"
      ]
     },
     "execution_count": 16,
     "metadata": {},
     "output_type": "execute_result"
    }
   ],
   "source": [
    "dataset[cols_cat[5]].value_counts(dropna=False)"
   ]
  },
  {
   "cell_type": "code",
   "execution_count": 17,
   "metadata": {},
   "outputs": [
    {
     "data": {
      "text/plain": [
       "False    3865\n",
       "True      978\n",
       "Name: has_air_conditioning, dtype: int64"
      ]
     },
     "execution_count": 17,
     "metadata": {},
     "output_type": "execute_result"
    }
   ],
   "source": [
    "dataset[cols_cat[6]].value_counts(dropna=False)"
   ]
  },
  {
   "cell_type": "code",
   "execution_count": 18,
   "metadata": {},
   "outputs": [
    {
     "data": {
      "text/plain": [
       "False    3881\n",
       "True      962\n",
       "Name: automatic_car, dtype: int64"
      ]
     },
     "execution_count": 18,
     "metadata": {},
     "output_type": "execute_result"
    }
   ],
   "source": [
    "dataset[cols_cat[7]].value_counts(dropna=False)"
   ]
  },
  {
   "cell_type": "code",
   "execution_count": 19,
   "metadata": {},
   "outputs": [
    {
     "data": {
      "text/plain": [
       "False    2613\n",
       "True     2230\n",
       "Name: has_getaround_connect, dtype: int64"
      ]
     },
     "execution_count": 19,
     "metadata": {},
     "output_type": "execute_result"
    }
   ],
   "source": [
    "dataset[cols_cat[8]].value_counts(dropna=False)"
   ]
  },
  {
   "cell_type": "code",
   "execution_count": 20,
   "metadata": {},
   "outputs": [
    {
     "data": {
      "text/plain": [
       "False    3674\n",
       "True     1169\n",
       "Name: has_speed_regulator, dtype: int64"
      ]
     },
     "execution_count": 20,
     "metadata": {},
     "output_type": "execute_result"
    }
   ],
   "source": [
    "dataset[cols_cat[9]].value_counts(dropna=False)"
   ]
  },
  {
   "cell_type": "code",
   "execution_count": 21,
   "metadata": {},
   "outputs": [
    {
     "data": {
      "text/plain": [
       "True     4514\n",
       "False     329\n",
       "Name: winter_tires, dtype: int64"
      ]
     },
     "execution_count": 21,
     "metadata": {},
     "output_type": "execute_result"
    }
   ],
   "source": [
    "dataset[cols_cat[10]].value_counts(dropna=False)"
   ]
  },
  {
   "cell_type": "markdown",
   "metadata": {},
   "source": [
    "## Distribution of numerical features and target"
   ]
  },
  {
   "cell_type": "code",
   "execution_count": 22,
   "metadata": {},
   "outputs": [
    {
     "name": "stdout",
     "output_type": "stream",
     "text": [
      "\n",
      "Description of data distribution\n",
      "\n",
      "count    4.843000e+03\n",
      "mean     1.409628e+05\n",
      "std      6.019674e+04\n",
      "min     -6.400000e+01\n",
      "25%      1.029135e+05\n",
      "50%      1.410800e+05\n",
      "75%      1.751955e+05\n",
      "max      1.000376e+06\n",
      "Name: mileage, dtype: float64\n",
      "\n",
      "Plotted distribution\n",
      "\n"
     ]
    },
    {
     "data": {
      "image/png": "[encoded data removed]",
      "text/plain": [
       "<Figure size 432x288 with 1 Axes>"
      ]
     },
     "metadata": {
      "needs_background": "light"
     },
     "output_type": "display_data"
    }
   ],
   "source": [
    "print('\\nDescription of data distribution\\n')\n",
    "print(dataset[cols_num[0]].describe())\n",
    "print('\\nPlotted distribution\\n')\n",
    "sns.histplot(dataset, x= cols_num[0])\n",
    "plt.show()"
   ]
  },
  {
   "cell_type": "code",
   "execution_count": 23,
   "metadata": {},
   "outputs": [
    {
     "name": "stdout",
     "output_type": "stream",
     "text": [
      "\n",
      "Description of data distribution\n",
      "\n",
      "count    4843.00000\n",
      "mean      128.98823\n",
      "std        38.99336\n",
      "min         0.00000\n",
      "25%       100.00000\n",
      "50%       120.00000\n",
      "75%       135.00000\n",
      "max       423.00000\n",
      "Name: engine_power, dtype: float64\n",
      "\n",
      "Plotted distribution\n",
      "\n"
     ]
    },
    {
     "data": {
      "image/png": "[encoded data removed]",
      "text/plain": [
       "<Figure size 432x288 with 1 Axes>"
      ]
     },
     "metadata": {
      "needs_background": "light"
     },
     "output_type": "display_data"
    }
   ],
   "source": [
    "print('\\nDescription of data distribution\\n')\n",
    "print(dataset[cols_num[1]].describe())\n",
    "print('\\nPlotted distribution\\n')\n",
    "sns.histplot(dataset, x= cols_num[1])\n",
    "plt.show()"
   ]
  },
  {
   "cell_type": "code",
   "execution_count": 24,
   "metadata": {},
   "outputs": [
    {
     "name": "stdout",
     "output_type": "stream",
     "text": [
      "\n",
      "Description of data distribution\n",
      "\n",
      "count    4843.000000\n",
      "mean      121.214536\n",
      "std        33.568268\n",
      "min        10.000000\n",
      "25%       104.000000\n",
      "50%       119.000000\n",
      "75%       136.000000\n",
      "max       422.000000\n",
      "Name: rental_price_per_day, dtype: float64\n",
      "\n",
      "Plotted distribution\n",
      "\n"
     ]
    },
    {
     "data": {
      "image/png": "[encoded data removed]",
      "text/plain": [
       "<Figure size 432x288 with 1 Axes>"
      ]
     },
     "metadata": {
      "needs_background": "light"
     },
     "output_type": "display_data"
    }
   ],
   "source": [
    "print('\\nDescription of data distribution\\n')\n",
    "print(dataset[cols_num[2]].describe())\n",
    "print('\\nPlotted distribution\\n')\n",
    "sns.histplot(dataset, x= cols_num[2])\n",
    "plt.show()"
   ]
  },
  {
   "cell_type": "code",
   "execution_count": 25,
   "metadata": {},
   "outputs": [
    {
     "name": "stdout",
     "output_type": "stream",
     "text": [
      "What is the most expensive car?\n",
      "\n"
     ]
    },
    {
     "data": {
      "text/html": [
       "<div>\n",
       "<style scoped>\n",
       "    .dataframe tbody tr th:only-of-type {\n",
       "        vertical-align: middle;\n",
       "    }\n",
       "\n",
       "    .dataframe tbody tr th {\n",
       "        vertical-align: top;\n",
       "    }\n",
       "\n",
       "    .dataframe thead th {\n",
       "        text-align: right;\n",
       "    }\n",
       "</style>\n",
       "<table border=\"1\" class=\"dataframe\">\n",
       "  <thead>\n",
       "    <tr style=\"text-align: right;\">\n",
       "      <th></th>\n",
       "      <th>4753</th>\n",
       "    </tr>\n",
       "  </thead>\n",
       "  <tbody>\n",
       "    <tr>\n",
       "      <th>model_key</th>\n",
       "      <td>BMW</td>\n",
       "    </tr>\n",
       "    <tr>\n",
       "      <th>mileage</th>\n",
       "      <td>72515</td>\n",
       "    </tr>\n",
       "    <tr>\n",
       "      <th>engine_power</th>\n",
       "      <td>135</td>\n",
       "    </tr>\n",
       "    <tr>\n",
       "      <th>fuel</th>\n",
       "      <td>diesel</td>\n",
       "    </tr>\n",
       "    <tr>\n",
       "      <th>paint_color</th>\n",
       "      <td>blue</td>\n",
       "    </tr>\n",
       "    <tr>\n",
       "      <th>car_type</th>\n",
       "      <td>suv</td>\n",
       "    </tr>\n",
       "    <tr>\n",
       "      <th>private_parking_available</th>\n",
       "      <td>False</td>\n",
       "    </tr>\n",
       "    <tr>\n",
       "      <th>has_gps</th>\n",
       "      <td>False</td>\n",
       "    </tr>\n",
       "    <tr>\n",
       "      <th>has_air_conditioning</th>\n",
       "      <td>True</td>\n",
       "    </tr>\n",
       "    <tr>\n",
       "      <th>automatic_car</th>\n",
       "      <td>False</td>\n",
       "    </tr>\n",
       "    <tr>\n",
       "      <th>has_getaround_connect</th>\n",
       "      <td>False</td>\n",
       "    </tr>\n",
       "    <tr>\n",
       "      <th>has_speed_regulator</th>\n",
       "      <td>False</td>\n",
       "    </tr>\n",
       "    <tr>\n",
       "      <th>winter_tires</th>\n",
       "      <td>False</td>\n",
       "    </tr>\n",
       "    <tr>\n",
       "      <th>rental_price_per_day</th>\n",
       "      <td>422</td>\n",
       "    </tr>\n",
       "  </tbody>\n",
       "</table>\n",
       "</div>"
      ],
      "text/plain": [
       "                             4753\n",
       "model_key                     BMW\n",
       "mileage                     72515\n",
       "engine_power                  135\n",
       "fuel                       diesel\n",
       "paint_color                  blue\n",
       "car_type                      suv\n",
       "private_parking_available   False\n",
       "has_gps                     False\n",
       "has_air_conditioning         True\n",
       "automatic_car               False\n",
       "has_getaround_connect       False\n",
       "has_speed_regulator         False\n",
       "winter_tires                False\n",
       "rental_price_per_day          422"
      ]
     },
     "execution_count": 25,
     "metadata": {},
     "output_type": "execute_result"
    }
   ],
   "source": [
    "print('What is the most expensive car?\\n')\n",
    "m_cheapcar = dataset.rental_price_per_day == dataset.rental_price_per_day.max()\n",
    "dataset.loc[m_cheapcar,:].transpose()"
   ]
  },
  {
   "cell_type": "code",
   "execution_count": 26,
   "metadata": {},
   "outputs": [
    {
     "name": "stdout",
     "output_type": "stream",
     "text": [
      "What is the cheapest car?\n",
      "\n"
     ]
    },
    {
     "data": {
      "text/html": [
       "<div>\n",
       "<style scoped>\n",
       "    .dataframe tbody tr th:only-of-type {\n",
       "        vertical-align: middle;\n",
       "    }\n",
       "\n",
       "    .dataframe tbody tr th {\n",
       "        vertical-align: top;\n",
       "    }\n",
       "\n",
       "    .dataframe thead th {\n",
       "        text-align: right;\n",
       "    }\n",
       "</style>\n",
       "<table border=\"1\" class=\"dataframe\">\n",
       "  <thead>\n",
       "    <tr style=\"text-align: right;\">\n",
       "      <th></th>\n",
       "      <th>565</th>\n",
       "      <th>630</th>\n",
       "      <th>879</th>\n",
       "      <th>1255</th>\n",
       "      <th>1832</th>\n",
       "      <th>2829</th>\n",
       "      <th>4356</th>\n",
       "    </tr>\n",
       "  </thead>\n",
       "  <tbody>\n",
       "    <tr>\n",
       "      <th>model_key</th>\n",
       "      <td>Citroën</td>\n",
       "      <td>Peugeot</td>\n",
       "      <td>Peugeot</td>\n",
       "      <td>Citroën</td>\n",
       "      <td>BMW</td>\n",
       "      <td>Audi</td>\n",
       "      <td>BMW</td>\n",
       "    </tr>\n",
       "    <tr>\n",
       "      <th>mileage</th>\n",
       "      <td>179358</td>\n",
       "      <td>147558</td>\n",
       "      <td>134156</td>\n",
       "      <td>170381</td>\n",
       "      <td>174524</td>\n",
       "      <td>439060</td>\n",
       "      <td>79685</td>\n",
       "    </tr>\n",
       "    <tr>\n",
       "      <th>engine_power</th>\n",
       "      <td>120</td>\n",
       "      <td>105</td>\n",
       "      <td>105</td>\n",
       "      <td>135</td>\n",
       "      <td>85</td>\n",
       "      <td>105</td>\n",
       "      <td>190</td>\n",
       "    </tr>\n",
       "    <tr>\n",
       "      <th>fuel</th>\n",
       "      <td>diesel</td>\n",
       "      <td>diesel</td>\n",
       "      <td>diesel</td>\n",
       "      <td>diesel</td>\n",
       "      <td>diesel</td>\n",
       "      <td>diesel</td>\n",
       "      <td>diesel</td>\n",
       "    </tr>\n",
       "    <tr>\n",
       "      <th>paint_color</th>\n",
       "      <td>black</td>\n",
       "      <td>white</td>\n",
       "      <td>grey</td>\n",
       "      <td>silver</td>\n",
       "      <td>blue</td>\n",
       "      <td>silver</td>\n",
       "      <td>black</td>\n",
       "    </tr>\n",
       "    <tr>\n",
       "      <th>car_type</th>\n",
       "      <td>estate</td>\n",
       "      <td>estate</td>\n",
       "      <td>estate</td>\n",
       "      <td>estate</td>\n",
       "      <td>hatchback</td>\n",
       "      <td>sedan</td>\n",
       "      <td>suv</td>\n",
       "    </tr>\n",
       "    <tr>\n",
       "      <th>private_parking_available</th>\n",
       "      <td>False</td>\n",
       "      <td>False</td>\n",
       "      <td>False</td>\n",
       "      <td>True</td>\n",
       "      <td>False</td>\n",
       "      <td>False</td>\n",
       "      <td>False</td>\n",
       "    </tr>\n",
       "    <tr>\n",
       "      <th>has_gps</th>\n",
       "      <td>True</td>\n",
       "      <td>True</td>\n",
       "      <td>True</td>\n",
       "      <td>True</td>\n",
       "      <td>True</td>\n",
       "      <td>False</td>\n",
       "      <td>False</td>\n",
       "    </tr>\n",
       "    <tr>\n",
       "      <th>has_air_conditioning</th>\n",
       "      <td>False</td>\n",
       "      <td>False</td>\n",
       "      <td>False</td>\n",
       "      <td>False</td>\n",
       "      <td>False</td>\n",
       "      <td>True</td>\n",
       "      <td>False</td>\n",
       "    </tr>\n",
       "    <tr>\n",
       "      <th>automatic_car</th>\n",
       "      <td>False</td>\n",
       "      <td>False</td>\n",
       "      <td>False</td>\n",
       "      <td>False</td>\n",
       "      <td>False</td>\n",
       "      <td>False</td>\n",
       "      <td>False</td>\n",
       "    </tr>\n",
       "    <tr>\n",
       "      <th>has_getaround_connect</th>\n",
       "      <td>False</td>\n",
       "      <td>False</td>\n",
       "      <td>False</td>\n",
       "      <td>False</td>\n",
       "      <td>False</td>\n",
       "      <td>False</td>\n",
       "      <td>False</td>\n",
       "    </tr>\n",
       "    <tr>\n",
       "      <th>has_speed_regulator</th>\n",
       "      <td>False</td>\n",
       "      <td>False</td>\n",
       "      <td>False</td>\n",
       "      <td>False</td>\n",
       "      <td>False</td>\n",
       "      <td>False</td>\n",
       "      <td>False</td>\n",
       "    </tr>\n",
       "    <tr>\n",
       "      <th>winter_tires</th>\n",
       "      <td>True</td>\n",
       "      <td>False</td>\n",
       "      <td>False</td>\n",
       "      <td>True</td>\n",
       "      <td>True</td>\n",
       "      <td>True</td>\n",
       "      <td>False</td>\n",
       "    </tr>\n",
       "    <tr>\n",
       "      <th>rental_price_per_day</th>\n",
       "      <td>10</td>\n",
       "      <td>10</td>\n",
       "      <td>10</td>\n",
       "      <td>10</td>\n",
       "      <td>10</td>\n",
       "      <td>10</td>\n",
       "      <td>10</td>\n",
       "    </tr>\n",
       "  </tbody>\n",
       "</table>\n",
       "</div>"
      ],
      "text/plain": [
       "                              565      630      879      1255       1832  \\\n",
       "model_key                  Citroën  Peugeot  Peugeot  Citroën        BMW   \n",
       "mileage                     179358   147558   134156   170381     174524   \n",
       "engine_power                   120      105      105      135         85   \n",
       "fuel                        diesel   diesel   diesel   diesel     diesel   \n",
       "paint_color                  black    white     grey   silver       blue   \n",
       "car_type                    estate   estate   estate   estate  hatchback   \n",
       "private_parking_available    False    False    False     True      False   \n",
       "has_gps                       True     True     True     True       True   \n",
       "has_air_conditioning         False    False    False    False      False   \n",
       "automatic_car                False    False    False    False      False   \n",
       "has_getaround_connect        False    False    False    False      False   \n",
       "has_speed_regulator          False    False    False    False      False   \n",
       "winter_tires                  True    False    False     True       True   \n",
       "rental_price_per_day            10       10       10       10         10   \n",
       "\n",
       "                             2829    4356  \n",
       "model_key                    Audi     BMW  \n",
       "mileage                    439060   79685  \n",
       "engine_power                  105     190  \n",
       "fuel                       diesel  diesel  \n",
       "paint_color                silver   black  \n",
       "car_type                    sedan     suv  \n",
       "private_parking_available   False   False  \n",
       "has_gps                     False   False  \n",
       "has_air_conditioning         True   False  \n",
       "automatic_car               False   False  \n",
       "has_getaround_connect       False   False  \n",
       "has_speed_regulator         False   False  \n",
       "winter_tires                 True   False  \n",
       "rental_price_per_day           10      10  "
      ]
     },
     "execution_count": 26,
     "metadata": {},
     "output_type": "execute_result"
    }
   ],
   "source": [
    "print('What is the cheapest car?\\n')\n",
    "m_cheapcar = dataset.rental_price_per_day == dataset.rental_price_per_day.min()\n",
    "dataset.loc[m_cheapcar,:].transpose()"
   ]
  },
  {
   "cell_type": "markdown",
   "metadata": {},
   "source": [
    "## Outliers ?\n",
    "\n",
    "Let's define a strategy to limit adverse effects of possible outliers.\n",
    "\n",
    "**Categorical columns**\n",
    "* some model names are not represented well. let's group them as others\n",
    "* some paint colors are not reprented sufficiently. let's group them as others\n",
    "* some fuel types are not represented sufficiently. let's group them as others\n",
    "\n",
    "=> I consider 30 (which is 0.6% of whole data amount) as limit to apply other label \n",
    "\n",
    "**Numerical columns**\n",
    "* some negative milage data exist\n",
    "* some milage are data away from central valus\n",
    "* some rental price are data away from central values\n",
    "\n",
    "=> Let's concentrate on the central data, central 98% data in this case. Any data below %1 and above %99 in these numerical columns will be cut off."
   ]
  },
  {
   "cell_type": "code",
   "execution_count": 27,
   "metadata": {},
   "outputs": [],
   "source": [
    "def other_re (x,list_):\n",
    "    y = x \n",
    "    if x in list_:\n",
    "        y= 'others'\n",
    "    return y\n",
    "\n",
    "#preparing labels that will be replaced as other\n",
    "list_model_other = ['Maserati', 'Suzuki', 'Porsche', 'Ford', \n",
    "                    'KIA Motors', 'Alfa Romeo', 'Fiat', \n",
    "                    'Lexus', 'Lamborghini', 'Mini', 'Mazda',\n",
    "                    'Honda','Yamaha']\n",
    "\n",
    "\n",
    "list_fuel_other = ['hybrid_petrol', 'electro']\n",
    "\n",
    "list_color_other = ['green','orange']\n",
    "\n",
    "dataset['model_key_'] = dataset['model_key'].apply(lambda x: other_re(x,list_model_other))\n",
    "dataset['fuel_'] =  dataset['fuel'].apply(lambda x: other_re(x,list_fuel_other))\n",
    "dataset['paint_color_'] =  dataset['paint_color'].apply(lambda x: other_re(x,list_color_other))"
   ]
  },
  {
   "cell_type": "code",
   "execution_count": 28,
   "metadata": {},
   "outputs": [
    {
     "name": "stdout",
     "output_type": "stream",
     "text": [
      "Taking central 98% data of numerical columns\n",
      "\n",
      "Done\n",
      "\n",
      "\n",
      "Shape of new dataset: (4655, 17)\n",
      "\n",
      "Amount of data trimmed from first dataset:  188\n"
     ]
    }
   ],
   "source": [
    "mask1 = dataset.mileage > dataset.mileage.quantile(0.01)\n",
    "mask2 = dataset.mileage < dataset.mileage.quantile(0.99)\n",
    "mask3 = dataset.rental_price_per_day > dataset.rental_price_per_day.quantile(0.01)\n",
    "mask4 = dataset.rental_price_per_day < dataset.rental_price_per_day.quantile(0.99)\n",
    "print('Taking central 98% data of numerical columns\\n')\n",
    "dataset2= dataset [mask1 & mask2 & mask3 & mask4]\n",
    "print('Done\\n')\n",
    "print('\\nShape of new dataset:', dataset2.shape)\n",
    "print('\\nAmount of data trimmed from first dataset: ', dataset.shape[0] - dataset2.shape[0])\n"
   ]
  },
  {
   "cell_type": "code",
   "execution_count": 29,
   "metadata": {},
   "outputs": [
    {
     "name": "stdout",
     "output_type": "stream",
     "text": [
      "\n",
      "Description of data distribution after removing possible outliers\n",
      "\n",
      "count    4655.000000\n",
      "mean      121.317723\n",
      "std        28.902631\n",
      "min        30.000000\n",
      "25%       104.000000\n",
      "50%       119.000000\n",
      "75%       136.000000\n",
      "max       215.000000\n",
      "Name: rental_price_per_day, dtype: float64\n",
      "\n",
      "Plotted distribution after removing possible outliers\n",
      "\n"
     ]
    },
    {
     "data": {
      "image/png": "[encoded data removed]",
      "text/plain": [
       "<Figure size 432x288 with 1 Axes>"
      ]
     },
     "metadata": {
      "needs_background": "light"
     },
     "output_type": "display_data"
    }
   ],
   "source": [
    "print('\\nDescription of data distribution after removing possible outliers\\n')\n",
    "print(dataset2[cols_num[2]].describe())\n",
    "print('\\nPlotted distribution after removing possible outliers\\n')\n",
    "sns.histplot(dataset2, x= cols_num[2])\n",
    "plt.show()"
   ]
  },
  {
   "cell_type": "markdown",
   "metadata": {},
   "source": [
    "## Correspondance matrix\n",
    "\n",
    "Let's find out the correlation between features and target column"
   ]
  },
  {
   "cell_type": "code",
   "execution_count": 37,
   "metadata": {},
   "outputs": [
    {
     "name": "stderr",
     "output_type": "stream",
     "text": [
      "C:\\Users\\lisbi\\AppData\\Local\\Temp\\ipykernel_17304\\1627256632.py:5: SettingWithCopyWarning: \n",
      "A value is trying to be set on a copy of a slice from a DataFrame.\n",
      "Try using .loc[row_indexer,col_indexer] = value instead\n",
      "\n",
      "See the caveats in the documentation: https://pandas.pydata.org/pandas-docs/stable/user_guide/indexing.html#returning-a-view-versus-a-copy\n",
      "  dataset2.loc[:, 'factorized_'+col] =pd.factorize(dataset2[col])[0]\n",
      "C:\\Users\\lisbi\\AppData\\Local\\Temp\\ipykernel_17304\\1627256632.py:5: SettingWithCopyWarning: \n",
      "A value is trying to be set on a copy of a slice from a DataFrame.\n",
      "Try using .loc[row_indexer,col_indexer] = value instead\n",
      "\n",
      "See the caveats in the documentation: https://pandas.pydata.org/pandas-docs/stable/user_guide/indexing.html#returning-a-view-versus-a-copy\n",
      "  dataset2.loc[:, 'factorized_'+col] =pd.factorize(dataset2[col])[0]\n",
      "C:\\Users\\lisbi\\AppData\\Local\\Temp\\ipykernel_17304\\1627256632.py:5: SettingWithCopyWarning: \n",
      "A value is trying to be set on a copy of a slice from a DataFrame.\n",
      "Try using .loc[row_indexer,col_indexer] = value instead\n",
      "\n",
      "See the caveats in the documentation: https://pandas.pydata.org/pandas-docs/stable/user_guide/indexing.html#returning-a-view-versus-a-copy\n",
      "  dataset2.loc[:, 'factorized_'+col] =pd.factorize(dataset2[col])[0]\n",
      "C:\\Users\\lisbi\\AppData\\Local\\Temp\\ipykernel_17304\\1627256632.py:5: SettingWithCopyWarning: \n",
      "A value is trying to be set on a copy of a slice from a DataFrame.\n",
      "Try using .loc[row_indexer,col_indexer] = value instead\n",
      "\n",
      "See the caveats in the documentation: https://pandas.pydata.org/pandas-docs/stable/user_guide/indexing.html#returning-a-view-versus-a-copy\n",
      "  dataset2.loc[:, 'factorized_'+col] =pd.factorize(dataset2[col])[0]\n",
      "C:\\Users\\lisbi\\AppData\\Local\\Temp\\ipykernel_17304\\1627256632.py:5: SettingWithCopyWarning: \n",
      "A value is trying to be set on a copy of a slice from a DataFrame.\n",
      "Try using .loc[row_indexer,col_indexer] = value instead\n",
      "\n",
      "See the caveats in the documentation: https://pandas.pydata.org/pandas-docs/stable/user_guide/indexing.html#returning-a-view-versus-a-copy\n",
      "  dataset2.loc[:, 'factorized_'+col] =pd.factorize(dataset2[col])[0]\n",
      "C:\\Users\\lisbi\\AppData\\Local\\Temp\\ipykernel_17304\\1627256632.py:5: SettingWithCopyWarning: \n",
      "A value is trying to be set on a copy of a slice from a DataFrame.\n",
      "Try using .loc[row_indexer,col_indexer] = value instead\n",
      "\n",
      "See the caveats in the documentation: https://pandas.pydata.org/pandas-docs/stable/user_guide/indexing.html#returning-a-view-versus-a-copy\n",
      "  dataset2.loc[:, 'factorized_'+col] =pd.factorize(dataset2[col])[0]\n",
      "C:\\Users\\lisbi\\AppData\\Local\\Temp\\ipykernel_17304\\1627256632.py:5: SettingWithCopyWarning: \n",
      "A value is trying to be set on a copy of a slice from a DataFrame.\n",
      "Try using .loc[row_indexer,col_indexer] = value instead\n",
      "\n",
      "See the caveats in the documentation: https://pandas.pydata.org/pandas-docs/stable/user_guide/indexing.html#returning-a-view-versus-a-copy\n",
      "  dataset2.loc[:, 'factorized_'+col] =pd.factorize(dataset2[col])[0]\n",
      "C:\\Users\\lisbi\\AppData\\Local\\Temp\\ipykernel_17304\\1627256632.py:5: SettingWithCopyWarning: \n",
      "A value is trying to be set on a copy of a slice from a DataFrame.\n",
      "Try using .loc[row_indexer,col_indexer] = value instead\n",
      "\n",
      "See the caveats in the documentation: https://pandas.pydata.org/pandas-docs/stable/user_guide/indexing.html#returning-a-view-versus-a-copy\n",
      "  dataset2.loc[:, 'factorized_'+col] =pd.factorize(dataset2[col])[0]\n",
      "C:\\Users\\lisbi\\AppData\\Local\\Temp\\ipykernel_17304\\1627256632.py:5: SettingWithCopyWarning: \n",
      "A value is trying to be set on a copy of a slice from a DataFrame.\n",
      "Try using .loc[row_indexer,col_indexer] = value instead\n",
      "\n",
      "See the caveats in the documentation: https://pandas.pydata.org/pandas-docs/stable/user_guide/indexing.html#returning-a-view-versus-a-copy\n",
      "  dataset2.loc[:, 'factorized_'+col] =pd.factorize(dataset2[col])[0]\n",
      "C:\\Users\\lisbi\\AppData\\Local\\Temp\\ipykernel_17304\\1627256632.py:5: SettingWithCopyWarning: \n",
      "A value is trying to be set on a copy of a slice from a DataFrame.\n",
      "Try using .loc[row_indexer,col_indexer] = value instead\n",
      "\n",
      "See the caveats in the documentation: https://pandas.pydata.org/pandas-docs/stable/user_guide/indexing.html#returning-a-view-versus-a-copy\n",
      "  dataset2.loc[:, 'factorized_'+col] =pd.factorize(dataset2[col])[0]\n",
      "C:\\Users\\lisbi\\AppData\\Local\\Temp\\ipykernel_17304\\1627256632.py:5: SettingWithCopyWarning: \n",
      "A value is trying to be set on a copy of a slice from a DataFrame.\n",
      "Try using .loc[row_indexer,col_indexer] = value instead\n",
      "\n",
      "See the caveats in the documentation: https://pandas.pydata.org/pandas-docs/stable/user_guide/indexing.html#returning-a-view-versus-a-copy\n",
      "  dataset2.loc[:, 'factorized_'+col] =pd.factorize(dataset2[col])[0]\n",
      "C:\\Users\\lisbi\\AppData\\Local\\Temp\\ipykernel_17304\\1627256632.py:5: SettingWithCopyWarning: \n",
      "A value is trying to be set on a copy of a slice from a DataFrame.\n",
      "Try using .loc[row_indexer,col_indexer] = value instead\n",
      "\n",
      "See the caveats in the documentation: https://pandas.pydata.org/pandas-docs/stable/user_guide/indexing.html#returning-a-view-versus-a-copy\n",
      "  dataset2.loc[:, 'factorized_'+col] =pd.factorize(dataset2[col])[0]\n",
      "C:\\Users\\lisbi\\AppData\\Local\\Temp\\ipykernel_17304\\1627256632.py:5: SettingWithCopyWarning: \n",
      "A value is trying to be set on a copy of a slice from a DataFrame.\n",
      "Try using .loc[row_indexer,col_indexer] = value instead\n",
      "\n",
      "See the caveats in the documentation: https://pandas.pydata.org/pandas-docs/stable/user_guide/indexing.html#returning-a-view-versus-a-copy\n",
      "  dataset2.loc[:, 'factorized_'+col] =pd.factorize(dataset2[col])[0]\n",
      "C:\\Users\\lisbi\\AppData\\Local\\Temp\\ipykernel_17304\\1627256632.py:5: SettingWithCopyWarning: \n",
      "A value is trying to be set on a copy of a slice from a DataFrame.\n",
      "Try using .loc[row_indexer,col_indexer] = value instead\n",
      "\n",
      "See the caveats in the documentation: https://pandas.pydata.org/pandas-docs/stable/user_guide/indexing.html#returning-a-view-versus-a-copy\n",
      "  dataset2.loc[:, 'factorized_'+col] =pd.factorize(dataset2[col])[0]\n"
     ]
    },
    {
     "data": {
      "text/html": [
       "<div>\n",
       "<style scoped>\n",
       "    .dataframe tbody tr th:only-of-type {\n",
       "        vertical-align: middle;\n",
       "    }\n",
       "\n",
       "    .dataframe tbody tr th {\n",
       "        vertical-align: top;\n",
       "    }\n",
       "\n",
       "    .dataframe thead th {\n",
       "        text-align: right;\n",
       "    }\n",
       "</style>\n",
       "<table border=\"1\" class=\"dataframe\">\n",
       "  <thead>\n",
       "    <tr style=\"text-align: right;\">\n",
       "      <th></th>\n",
       "      <th>factorized_automatic_car</th>\n",
       "      <th>factorized_has_getaround_connect</th>\n",
       "      <th>factorized_has_speed_regulator</th>\n",
       "      <th>factorized_winter_tires</th>\n",
       "      <th>factorized_model_key_</th>\n",
       "      <th>factorized_fuel_</th>\n",
       "      <th>factorized_paint_color_</th>\n",
       "    </tr>\n",
       "  </thead>\n",
       "  <tbody>\n",
       "    <tr>\n",
       "      <th>0</th>\n",
       "      <td>0</td>\n",
       "      <td>0</td>\n",
       "      <td>0</td>\n",
       "      <td>0</td>\n",
       "      <td>0</td>\n",
       "      <td>0</td>\n",
       "      <td>0</td>\n",
       "    </tr>\n",
       "    <tr>\n",
       "      <th>2</th>\n",
       "      <td>0</td>\n",
       "      <td>0</td>\n",
       "      <td>1</td>\n",
       "      <td>0</td>\n",
       "      <td>0</td>\n",
       "      <td>0</td>\n",
       "      <td>1</td>\n",
       "    </tr>\n",
       "    <tr>\n",
       "      <th>3</th>\n",
       "      <td>0</td>\n",
       "      <td>0</td>\n",
       "      <td>0</td>\n",
       "      <td>0</td>\n",
       "      <td>0</td>\n",
       "      <td>0</td>\n",
       "      <td>2</td>\n",
       "    </tr>\n",
       "  </tbody>\n",
       "</table>\n",
       "</div>"
      ],
      "text/plain": [
       "   factorized_automatic_car  factorized_has_getaround_connect  \\\n",
       "0                         0                                 0   \n",
       "2                         0                                 0   \n",
       "3                         0                                 0   \n",
       "\n",
       "   factorized_has_speed_regulator  factorized_winter_tires  \\\n",
       "0                               0                        0   \n",
       "2                               1                        0   \n",
       "3                               0                        0   \n",
       "\n",
       "   factorized_model_key_  factorized_fuel_  factorized_paint_color_  \n",
       "0                      0                 0                        0  \n",
       "2                      0                 0                        1  \n",
       "3                      0                 0                        2  "
      ]
     },
     "execution_count": 37,
     "metadata": {},
     "output_type": "execute_result"
    }
   ],
   "source": [
    "#df.corr() function works for numeric columns. So non numerical columns will be factorized below.\n",
    "for col in dataset2.columns:\n",
    "    dtypes_fact = [object, bool]\n",
    "    if dataset2[col].dtype in dtypes_fact :\n",
    "        dataset2.loc[:, 'factorized_'+col] =pd.factorize(dataset2[col])[0]\n",
    "\n",
    "dataset2.iloc[:,-7:].head(3)"
   ]
  },
  {
   "cell_type": "code",
   "execution_count": 38,
   "metadata": {},
   "outputs": [
    {
     "name": "stdout",
     "output_type": "stream",
     "text": [
      "\n",
      "Top features corresponded to rental price per day\n",
      "\n"
     ]
    },
    {
     "data": {
      "text/html": [
       "<div>\n",
       "<style scoped>\n",
       "    .dataframe tbody tr th:only-of-type {\n",
       "        vertical-align: middle;\n",
       "    }\n",
       "\n",
       "    .dataframe tbody tr th {\n",
       "        vertical-align: top;\n",
       "    }\n",
       "\n",
       "    .dataframe thead th {\n",
       "        text-align: right;\n",
       "    }\n",
       "</style>\n",
       "<table border=\"1\" class=\"dataframe\">\n",
       "  <thead>\n",
       "    <tr style=\"text-align: right;\">\n",
       "      <th></th>\n",
       "      <th>rental_price_per_day</th>\n",
       "    </tr>\n",
       "  </thead>\n",
       "  <tbody>\n",
       "    <tr>\n",
       "      <th>rental_price_per_day</th>\n",
       "      <td>1.000000</td>\n",
       "    </tr>\n",
       "    <tr>\n",
       "      <th>engine_power</th>\n",
       "      <td>0.638702</td>\n",
       "    </tr>\n",
       "    <tr>\n",
       "      <th>automatic_car</th>\n",
       "      <td>0.431681</td>\n",
       "    </tr>\n",
       "    <tr>\n",
       "      <th>factorized_automatic_car</th>\n",
       "      <td>0.431681</td>\n",
       "    </tr>\n",
       "    <tr>\n",
       "      <th>mileage</th>\n",
       "      <td>0.410626</td>\n",
       "    </tr>\n",
       "    <tr>\n",
       "      <th>factorized_model_key_</th>\n",
       "      <td>0.380635</td>\n",
       "    </tr>\n",
       "    <tr>\n",
       "      <th>factorized_model_key</th>\n",
       "      <td>0.364132</td>\n",
       "    </tr>\n",
       "    <tr>\n",
       "      <th>has_getaround_connect</th>\n",
       "      <td>0.362687</td>\n",
       "    </tr>\n",
       "    <tr>\n",
       "      <th>factorized_has_getaround_connect</th>\n",
       "      <td>0.362687</td>\n",
       "    </tr>\n",
       "    <tr>\n",
       "      <th>has_gps</th>\n",
       "      <td>0.286764</td>\n",
       "    </tr>\n",
       "    <tr>\n",
       "      <th>factorized_has_gps</th>\n",
       "      <td>0.286764</td>\n",
       "    </tr>\n",
       "    <tr>\n",
       "      <th>factorized_car_type</th>\n",
       "      <td>0.268759</td>\n",
       "    </tr>\n",
       "    <tr>\n",
       "      <th>factorized_private_parking_available</th>\n",
       "      <td>0.261539</td>\n",
       "    </tr>\n",
       "    <tr>\n",
       "      <th>private_parking_available</th>\n",
       "      <td>0.261539</td>\n",
       "    </tr>\n",
       "    <tr>\n",
       "      <th>has_air_conditioning</th>\n",
       "      <td>0.236174</td>\n",
       "    </tr>\n",
       "    <tr>\n",
       "      <th>factorized_has_air_conditioning</th>\n",
       "      <td>0.236174</td>\n",
       "    </tr>\n",
       "    <tr>\n",
       "      <th>factorized_has_speed_regulator</th>\n",
       "      <td>0.226750</td>\n",
       "    </tr>\n",
       "    <tr>\n",
       "      <th>has_speed_regulator</th>\n",
       "      <td>0.226750</td>\n",
       "    </tr>\n",
       "    <tr>\n",
       "      <th>factorized_paint_color</th>\n",
       "      <td>0.056614</td>\n",
       "    </tr>\n",
       "    <tr>\n",
       "      <th>factorized_paint_color_</th>\n",
       "      <td>0.052510</td>\n",
       "    </tr>\n",
       "  </tbody>\n",
       "</table>\n",
       "</div>"
      ],
      "text/plain": [
       "                                      rental_price_per_day\n",
       "rental_price_per_day                              1.000000\n",
       "engine_power                                      0.638702\n",
       "automatic_car                                     0.431681\n",
       "factorized_automatic_car                          0.431681\n",
       "mileage                                           0.410626\n",
       "factorized_model_key_                             0.380635\n",
       "factorized_model_key                              0.364132\n",
       "has_getaround_connect                             0.362687\n",
       "factorized_has_getaround_connect                  0.362687\n",
       "has_gps                                           0.286764\n",
       "factorized_has_gps                                0.286764\n",
       "factorized_car_type                               0.268759\n",
       "factorized_private_parking_available              0.261539\n",
       "private_parking_available                         0.261539\n",
       "has_air_conditioning                              0.236174\n",
       "factorized_has_air_conditioning                   0.236174\n",
       "factorized_has_speed_regulator                    0.226750\n",
       "has_speed_regulator                               0.226750\n",
       "factorized_paint_color                            0.056614\n",
       "factorized_paint_color_                           0.052510"
      ]
     },
     "execution_count": 38,
     "metadata": {},
     "output_type": "execute_result"
    }
   ],
   "source": [
    "print('\\nTop features corresponded to rental price per day\\n')\n",
    "corr_match=dataset2.corr().loc[:,['rental_price_per_day']].abs().sort_values(by='rental_price_per_day',ascending=False)\n",
    "corr_match.head(20)"
   ]
  },
  {
   "cell_type": "code",
   "execution_count": 39,
   "metadata": {},
   "outputs": [
    {
     "name": "stdout",
     "output_type": "stream",
     "text": [
      "Correspondance matrix \n",
      "\n"
     ]
    },
    {
     "data": {
      "image/png": "[encoded data removed]",
      "text/plain": [
       "<Figure size 720x576 with 2 Axes>"
      ]
     },
     "metadata": {
      "needs_background": "light"
     },
     "output_type": "display_data"
    }
   ],
   "source": [
    "print(\"Correspondance matrix \\n\")\n",
    "key_cols = corr_match.index #sorted column names \n",
    "f, ax = plt.subplots(figsize=(10, 8))\n",
    "sns.heatmap(dataset2[key_cols].corr().abs(), vmax=.8, square=True,  cmap=\"YlGnBu\")\n",
    "plt.show()"
   ]
  },
  {
   "cell_type": "markdown",
   "metadata": {},
   "source": [
    "## Summary\n",
    "\n",
    "Cleaned Pricing dataset has 4655 rows. 188 rows were suspected as outliers and removed.\n",
    "\n",
    "rental_price_per_day is correlated :\n",
    "* **very well** with engine_power, automatic_car, mileage\n",
    "\n",
    "* **well** with  model_key_, has_getaround_connect, has_gps, car_type, private_parking_available, has_air_conditioning, has_speed_regulator\n",
    "\n",
    "* **slightly** with paint_color_, fuel_, winter_tires"
   ]
  },
  {
   "cell_type": "code",
   "execution_count": 40,
   "metadata": {},
   "outputs": [],
   "source": [
    "# Let's export database\n",
    "dataset2.to_csv('../data/get_around_pricing_project_clean.csv', index=False)"
   ]
  },
  {
   "cell_type": "markdown",
   "metadata": {},
   "source": [
    "-_-_-_-_- End of Notebook -_-_-_-_-\n",
    "# End"
   ]
  }
 ],
 "metadata": {
  "kernelspec": {
   "display_name": "Python 3.9.12 64-bit ('Anaconda3')",
   "language": "python",
   "name": "python3"
  },
  "language_info": {
   "codemirror_mode": {
    "name": "ipython",
    "version": 3
   },
   "file_extension": ".py",
   "mimetype": "text/x-python",
   "name": "python",
   "nbconvert_exporter": "python",
   "pygments_lexer": "ipython3",
   "version": "3.9.12"
  },
  "orig_nbformat": 4,
  "vscode": {
   "interpreter": {
    "hash": "ad2bdc8ecc057115af97d19610ffacc2b4e99fae6737bb82f5d7fb13d2f2c186"
   }
  }
 },
 "nbformat": 4,
 "nbformat_minor": 2
}
