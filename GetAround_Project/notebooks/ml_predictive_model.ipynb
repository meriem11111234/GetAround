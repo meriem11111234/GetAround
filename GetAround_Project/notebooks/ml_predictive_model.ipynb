{
 "cells": [
  {
   "cell_type": "markdown",
   "metadata": {},
   "source": [
    "# Machine learning models to predict rental price per day\n",
    "\n",
    "This notebook serves for the following features below:\n",
    "*    pipelines to train a various type of machine learning model\n",
    "*    tuning hyperparameters of ML models\n",
    "*    checking if there is any overfitting by using cross validation\n",
    "*    choosing model with best score \n",
    "*    exporting model\n",
    "\n",
    "Note:  This notebook is adapted from one of earlier projects that I took place.\n",
    "    ref. https://github.com/LHB-Group/Civil-Work-Bidding-And-Investment-Helper"
   ]
  },
  {
   "cell_type": "markdown",
   "metadata": {},
   "source": [
    "## Setup"
   ]
  },
  {
   "cell_type": "code",
   "execution_count": 2,
   "metadata": {},
   "outputs": [],
   "source": [
    "import numpy as np\n",
    "import pandas as pd\n",
    "\n",
    "import joblib\n",
    "\n",
    "import matplotlib.pyplot as plt\n",
    "import seaborn as sns\n",
    "#import plotly.express as px\n",
    "\n",
    "from sklearn.model_selection import KFold, cross_val_score, train_test_split\n",
    "from sklearn.pipeline import Pipeline\n",
    "from sklearn.impute import SimpleImputer\n",
    "from sklearn.preprocessing import OneHotEncoder, StandardScaler\n",
    "from sklearn.compose import ColumnTransformer\n",
    "from sklearn.linear_model import LinearRegression, Lasso, ElasticNet\n",
    "from sklearn.ensemble import RandomForestRegressor\n",
    "from sklearn.model_selection import GridSearchCV\n",
    "from sklearn.metrics import r2_score, mean_squared_error\n",
    "import xgboost as xgb\n",
    "\n",
    "\n",
    "pd.options.display.max_columns = None\n",
    "pd.options.display.max_rows = None\n",
    "\n",
    "import os \n",
    "\n",
    "import warnings\n",
    "warnings.filterwarnings('ignore')"
   ]
  },
  {
   "cell_type": "code",
   "execution_count": 3,
   "metadata": {},
   "outputs": [],
   "source": [
    "#Start of User Input\n",
    "fname1= \"../data/get_around_pricing_project_clean.csv\"\n",
    "dataset = pd.read_csv(fname1, low_memory=False)"
   ]
  },
  {
   "cell_type": "code",
   "execution_count": 4,
   "metadata": {},
   "outputs": [
    {
     "data": {
      "text/plain": [
       "(4655, 31)"
      ]
     },
     "execution_count": 4,
     "metadata": {},
     "output_type": "execute_result"
    }
   ],
   "source": [
    "dataset.shape"
   ]
  },
  {
   "cell_type": "code",
   "execution_count": 5,
   "metadata": {},
   "outputs": [
    {
     "data": {
      "text/html": [
       "<div>\n",
       "<style scoped>\n",
       "    .dataframe tbody tr th:only-of-type {\n",
       "        vertical-align: middle;\n",
       "    }\n",
       "\n",
       "    .dataframe tbody tr th {\n",
       "        vertical-align: top;\n",
       "    }\n",
       "\n",
       "    .dataframe thead th {\n",
       "        text-align: right;\n",
       "    }\n",
       "</style>\n",
       "<table border=\"1\" class=\"dataframe\">\n",
       "  <thead>\n",
       "    <tr style=\"text-align: right;\">\n",
       "      <th></th>\n",
       "      <th>model_key</th>\n",
       "      <th>mileage</th>\n",
       "      <th>engine_power</th>\n",
       "      <th>fuel</th>\n",
       "      <th>paint_color</th>\n",
       "      <th>car_type</th>\n",
       "      <th>private_parking_available</th>\n",
       "      <th>has_gps</th>\n",
       "      <th>has_air_conditioning</th>\n",
       "      <th>automatic_car</th>\n",
       "      <th>has_getaround_connect</th>\n",
       "      <th>has_speed_regulator</th>\n",
       "      <th>winter_tires</th>\n",
       "      <th>rental_price_per_day</th>\n",
       "      <th>model_key_</th>\n",
       "      <th>fuel_</th>\n",
       "      <th>paint_color_</th>\n",
       "      <th>factorized_model_key</th>\n",
       "      <th>factorized_fuel</th>\n",
       "      <th>factorized_paint_color</th>\n",
       "      <th>factorized_car_type</th>\n",
       "      <th>factorized_private_parking_available</th>\n",
       "      <th>factorized_has_gps</th>\n",
       "      <th>factorized_has_air_conditioning</th>\n",
       "      <th>factorized_automatic_car</th>\n",
       "      <th>factorized_has_getaround_connect</th>\n",
       "      <th>factorized_has_speed_regulator</th>\n",
       "      <th>factorized_winter_tires</th>\n",
       "      <th>factorized_model_key_</th>\n",
       "      <th>factorized_fuel_</th>\n",
       "      <th>factorized_paint_color_</th>\n",
       "    </tr>\n",
       "  </thead>\n",
       "  <tbody>\n",
       "    <tr>\n",
       "      <th>0</th>\n",
       "      <td>Citroën</td>\n",
       "      <td>140411</td>\n",
       "      <td>100</td>\n",
       "      <td>diesel</td>\n",
       "      <td>black</td>\n",
       "      <td>convertible</td>\n",
       "      <td>True</td>\n",
       "      <td>True</td>\n",
       "      <td>False</td>\n",
       "      <td>False</td>\n",
       "      <td>True</td>\n",
       "      <td>True</td>\n",
       "      <td>True</td>\n",
       "      <td>106</td>\n",
       "      <td>Citroën</td>\n",
       "      <td>diesel</td>\n",
       "      <td>black</td>\n",
       "      <td>0</td>\n",
       "      <td>0</td>\n",
       "      <td>0</td>\n",
       "      <td>0</td>\n",
       "      <td>0</td>\n",
       "      <td>0</td>\n",
       "      <td>0</td>\n",
       "      <td>0</td>\n",
       "      <td>0</td>\n",
       "      <td>0</td>\n",
       "      <td>0</td>\n",
       "      <td>0</td>\n",
       "      <td>0</td>\n",
       "      <td>0</td>\n",
       "    </tr>\n",
       "    <tr>\n",
       "      <th>1</th>\n",
       "      <td>Citroën</td>\n",
       "      <td>183297</td>\n",
       "      <td>120</td>\n",
       "      <td>diesel</td>\n",
       "      <td>white</td>\n",
       "      <td>convertible</td>\n",
       "      <td>False</td>\n",
       "      <td>False</td>\n",
       "      <td>False</td>\n",
       "      <td>False</td>\n",
       "      <td>True</td>\n",
       "      <td>False</td>\n",
       "      <td>True</td>\n",
       "      <td>101</td>\n",
       "      <td>Citroën</td>\n",
       "      <td>diesel</td>\n",
       "      <td>white</td>\n",
       "      <td>0</td>\n",
       "      <td>0</td>\n",
       "      <td>1</td>\n",
       "      <td>0</td>\n",
       "      <td>1</td>\n",
       "      <td>1</td>\n",
       "      <td>0</td>\n",
       "      <td>0</td>\n",
       "      <td>0</td>\n",
       "      <td>1</td>\n",
       "      <td>0</td>\n",
       "      <td>0</td>\n",
       "      <td>0</td>\n",
       "      <td>1</td>\n",
       "    </tr>\n",
       "    <tr>\n",
       "      <th>2</th>\n",
       "      <td>Citroën</td>\n",
       "      <td>128035</td>\n",
       "      <td>135</td>\n",
       "      <td>diesel</td>\n",
       "      <td>red</td>\n",
       "      <td>convertible</td>\n",
       "      <td>True</td>\n",
       "      <td>True</td>\n",
       "      <td>False</td>\n",
       "      <td>False</td>\n",
       "      <td>True</td>\n",
       "      <td>True</td>\n",
       "      <td>True</td>\n",
       "      <td>158</td>\n",
       "      <td>Citroën</td>\n",
       "      <td>diesel</td>\n",
       "      <td>red</td>\n",
       "      <td>0</td>\n",
       "      <td>0</td>\n",
       "      <td>2</td>\n",
       "      <td>0</td>\n",
       "      <td>0</td>\n",
       "      <td>0</td>\n",
       "      <td>0</td>\n",
       "      <td>0</td>\n",
       "      <td>0</td>\n",
       "      <td>0</td>\n",
       "      <td>0</td>\n",
       "      <td>0</td>\n",
       "      <td>0</td>\n",
       "      <td>2</td>\n",
       "    </tr>\n",
       "    <tr>\n",
       "      <th>3</th>\n",
       "      <td>Citroën</td>\n",
       "      <td>97097</td>\n",
       "      <td>160</td>\n",
       "      <td>diesel</td>\n",
       "      <td>silver</td>\n",
       "      <td>convertible</td>\n",
       "      <td>True</td>\n",
       "      <td>True</td>\n",
       "      <td>False</td>\n",
       "      <td>False</td>\n",
       "      <td>False</td>\n",
       "      <td>True</td>\n",
       "      <td>True</td>\n",
       "      <td>183</td>\n",
       "      <td>Citroën</td>\n",
       "      <td>diesel</td>\n",
       "      <td>silver</td>\n",
       "      <td>0</td>\n",
       "      <td>0</td>\n",
       "      <td>3</td>\n",
       "      <td>0</td>\n",
       "      <td>0</td>\n",
       "      <td>0</td>\n",
       "      <td>0</td>\n",
       "      <td>0</td>\n",
       "      <td>1</td>\n",
       "      <td>0</td>\n",
       "      <td>0</td>\n",
       "      <td>0</td>\n",
       "      <td>0</td>\n",
       "      <td>3</td>\n",
       "    </tr>\n",
       "    <tr>\n",
       "      <th>4</th>\n",
       "      <td>Citroën</td>\n",
       "      <td>152352</td>\n",
       "      <td>225</td>\n",
       "      <td>petrol</td>\n",
       "      <td>black</td>\n",
       "      <td>convertible</td>\n",
       "      <td>True</td>\n",
       "      <td>True</td>\n",
       "      <td>False</td>\n",
       "      <td>False</td>\n",
       "      <td>True</td>\n",
       "      <td>True</td>\n",
       "      <td>True</td>\n",
       "      <td>131</td>\n",
       "      <td>Citroën</td>\n",
       "      <td>petrol</td>\n",
       "      <td>black</td>\n",
       "      <td>0</td>\n",
       "      <td>1</td>\n",
       "      <td>0</td>\n",
       "      <td>0</td>\n",
       "      <td>0</td>\n",
       "      <td>0</td>\n",
       "      <td>0</td>\n",
       "      <td>0</td>\n",
       "      <td>0</td>\n",
       "      <td>0</td>\n",
       "      <td>0</td>\n",
       "      <td>0</td>\n",
       "      <td>1</td>\n",
       "      <td>0</td>\n",
       "    </tr>\n",
       "  </tbody>\n",
       "</table>\n",
       "</div>"
      ],
      "text/plain": [
       "  model_key  mileage  engine_power    fuel paint_color     car_type  \\\n",
       "0   Citroën   140411           100  diesel       black  convertible   \n",
       "1   Citroën   183297           120  diesel       white  convertible   \n",
       "2   Citroën   128035           135  diesel         red  convertible   \n",
       "3   Citroën    97097           160  diesel      silver  convertible   \n",
       "4   Citroën   152352           225  petrol       black  convertible   \n",
       "\n",
       "   private_parking_available  has_gps  has_air_conditioning  automatic_car  \\\n",
       "0                       True     True                 False          False   \n",
       "1                      False    False                 False          False   \n",
       "2                       True     True                 False          False   \n",
       "3                       True     True                 False          False   \n",
       "4                       True     True                 False          False   \n",
       "\n",
       "   has_getaround_connect  has_speed_regulator  winter_tires  \\\n",
       "0                   True                 True          True   \n",
       "1                   True                False          True   \n",
       "2                   True                 True          True   \n",
       "3                  False                 True          True   \n",
       "4                   True                 True          True   \n",
       "\n",
       "   rental_price_per_day model_key_   fuel_ paint_color_  factorized_model_key  \\\n",
       "0                   106    Citroën  diesel        black                     0   \n",
       "1                   101    Citroën  diesel        white                     0   \n",
       "2                   158    Citroën  diesel          red                     0   \n",
       "3                   183    Citroën  diesel       silver                     0   \n",
       "4                   131    Citroën  petrol        black                     0   \n",
       "\n",
       "   factorized_fuel  factorized_paint_color  factorized_car_type  \\\n",
       "0                0                       0                    0   \n",
       "1                0                       1                    0   \n",
       "2                0                       2                    0   \n",
       "3                0                       3                    0   \n",
       "4                1                       0                    0   \n",
       "\n",
       "   factorized_private_parking_available  factorized_has_gps  \\\n",
       "0                                     0                   0   \n",
       "1                                     1                   1   \n",
       "2                                     0                   0   \n",
       "3                                     0                   0   \n",
       "4                                     0                   0   \n",
       "\n",
       "   factorized_has_air_conditioning  factorized_automatic_car  \\\n",
       "0                                0                         0   \n",
       "1                                0                         0   \n",
       "2                                0                         0   \n",
       "3                                0                         0   \n",
       "4                                0                         0   \n",
       "\n",
       "   factorized_has_getaround_connect  factorized_has_speed_regulator  \\\n",
       "0                                 0                               0   \n",
       "1                                 0                               1   \n",
       "2                                 0                               0   \n",
       "3                                 1                               0   \n",
       "4                                 0                               0   \n",
       "\n",
       "   factorized_winter_tires  factorized_model_key_  factorized_fuel_  \\\n",
       "0                        0                      0                 0   \n",
       "1                        0                      0                 0   \n",
       "2                        0                      0                 0   \n",
       "3                        0                      0                 0   \n",
       "4                        0                      0                 1   \n",
       "\n",
       "   factorized_paint_color_  \n",
       "0                        0  \n",
       "1                        1  \n",
       "2                        2  \n",
       "3                        3  \n",
       "4                        0  "
      ]
     },
     "execution_count": 5,
     "metadata": {},
     "output_type": "execute_result"
    }
   ],
   "source": [
    "dataset.head(5)"
   ]
  },
  {
   "cell_type": "code",
   "execution_count": 6,
   "metadata": {},
   "outputs": [
    {
     "data": {
      "text/plain": [
       "Index(['model_key', 'mileage', 'engine_power', 'fuel', 'paint_color',\n",
       "       'car_type', 'private_parking_available', 'has_gps',\n",
       "       'has_air_conditioning', 'automatic_car', 'has_getaround_connect',\n",
       "       'has_speed_regulator', 'winter_tires', 'rental_price_per_day',\n",
       "       'model_key_', 'fuel_', 'paint_color_', 'factorized_model_key',\n",
       "       'factorized_fuel', 'factorized_paint_color', 'factorized_car_type',\n",
       "       'factorized_private_parking_available', 'factorized_has_gps',\n",
       "       'factorized_has_air_conditioning', 'factorized_automatic_car',\n",
       "       'factorized_has_getaround_connect', 'factorized_has_speed_regulator',\n",
       "       'factorized_winter_tires', 'factorized_model_key_', 'factorized_fuel_',\n",
       "       'factorized_paint_color_'],\n",
       "      dtype='object')"
      ]
     },
     "execution_count": 6,
     "metadata": {},
     "output_type": "execute_result"
    }
   ],
   "source": [
    "dataset.columns"
   ]
  },
  {
   "cell_type": "code",
   "execution_count": 7,
   "metadata": {},
   "outputs": [
    {
     "name": "stdout",
     "output_type": "stream",
     "text": [
      "<class 'pandas.core.frame.DataFrame'>\n",
      "RangeIndex: 4655 entries, 0 to 4654\n",
      "Data columns (total 31 columns):\n",
      " #   Column                                Non-Null Count  Dtype \n",
      "---  ------                                --------------  ----- \n",
      " 0   model_key                             4655 non-null   object\n",
      " 1   mileage                               4655 non-null   int64 \n",
      " 2   engine_power                          4655 non-null   int64 \n",
      " 3   fuel                                  4655 non-null   object\n",
      " 4   paint_color                           4655 non-null   object\n",
      " 5   car_type                              4655 non-null   object\n",
      " 6   private_parking_available             4655 non-null   bool  \n",
      " 7   has_gps                               4655 non-null   bool  \n",
      " 8   has_air_conditioning                  4655 non-null   bool  \n",
      " 9   automatic_car                         4655 non-null   bool  \n",
      " 10  has_getaround_connect                 4655 non-null   bool  \n",
      " 11  has_speed_regulator                   4655 non-null   bool  \n",
      " 12  winter_tires                          4655 non-null   bool  \n",
      " 13  rental_price_per_day                  4655 non-null   int64 \n",
      " 14  model_key_                            4655 non-null   object\n",
      " 15  fuel_                                 4655 non-null   object\n",
      " 16  paint_color_                          4655 non-null   object\n",
      " 17  factorized_model_key                  4655 non-null   int64 \n",
      " 18  factorized_fuel                       4655 non-null   int64 \n",
      " 19  factorized_paint_color                4655 non-null   int64 \n",
      " 20  factorized_car_type                   4655 non-null   int64 \n",
      " 21  factorized_private_parking_available  4655 non-null   int64 \n",
      " 22  factorized_has_gps                    4655 non-null   int64 \n",
      " 23  factorized_has_air_conditioning       4655 non-null   int64 \n",
      " 24  factorized_automatic_car              4655 non-null   int64 \n",
      " 25  factorized_has_getaround_connect      4655 non-null   int64 \n",
      " 26  factorized_has_speed_regulator        4655 non-null   int64 \n",
      " 27  factorized_winter_tires               4655 non-null   int64 \n",
      " 28  factorized_model_key_                 4655 non-null   int64 \n",
      " 29  factorized_fuel_                      4655 non-null   int64 \n",
      " 30  factorized_paint_color_               4655 non-null   int64 \n",
      "dtypes: bool(7), int64(17), object(7)\n",
      "memory usage: 904.8+ KB\n"
     ]
    }
   ],
   "source": [
    "dataset.info()"
   ]
  },
  {
   "cell_type": "markdown",
   "metadata": {},
   "source": [
    "## Target and features\n",
    "\n",
    "**Target**\n",
    "* rental_price_per_day\n",
    "\n",
    "**Features**\n",
    "* very well correlated: engine_power, automatic_car, mileage\n",
    "\n",
    "* well correlated: model_key_, has_getaround_connect, has_gps, car_type, private_parking_available, has_air_conditioning, has_speed_regulator\n",
    "\n",
    "* slightly correlated: paint_color_, fuel_, winter_tires\n",
    "\n",
    "At first attempt, I factorize features of boolean and object types. It will allow me to print feature importance of features."
   ]
  },
  {
   "cell_type": "code",
   "execution_count": 8,
   "metadata": {},
   "outputs": [
    {
     "name": "stdout",
     "output_type": "stream",
     "text": [
      "Separating labels from features...\n",
      "...Done.\n",
      "\n",
      "Y : \n",
      "0    106\n",
      "1    101\n",
      "2    158\n",
      "3    183\n",
      "4    131\n",
      "Name: rental_price_per_day, dtype: int64\n",
      "\n",
      "X :\n",
      "   factorized_model_key_  mileage  engine_power  factorized_fuel_  \\\n",
      "0                      0   140411           100                 0   \n",
      "1                      0   183297           120                 0   \n",
      "2                      0   128035           135                 0   \n",
      "3                      0    97097           160                 0   \n",
      "4                      0   152352           225                 1   \n",
      "\n",
      "   factorized_paint_color_  factorized_car_type  \\\n",
      "0                        0                    0   \n",
      "1                        1                    0   \n",
      "2                        2                    0   \n",
      "3                        3                    0   \n",
      "4                        0                    0   \n",
      "\n",
      "   factorized_private_parking_available  factorized_has_gps  \\\n",
      "0                                     0                   0   \n",
      "1                                     1                   1   \n",
      "2                                     0                   0   \n",
      "3                                     0                   0   \n",
      "4                                     0                   0   \n",
      "\n",
      "   factorized_has_air_conditioning  factorized_automatic_car  \\\n",
      "0                                0                         0   \n",
      "1                                0                         0   \n",
      "2                                0                         0   \n",
      "3                                0                         0   \n",
      "4                                0                         0   \n",
      "\n",
      "   factorized_has_getaround_connect  factorized_has_speed_regulator  \\\n",
      "0                                 0                               0   \n",
      "1                                 0                               1   \n",
      "2                                 0                               0   \n",
      "3                                 1                               0   \n",
      "4                                 0                               0   \n",
      "\n",
      "   factorized_winter_tires  \n",
      "0                        0  \n",
      "1                        0  \n",
      "2                        0  \n",
      "3                        0  \n",
      "4                        0  \n"
     ]
    }
   ],
   "source": [
    "# Separate target variable Y from features X\n",
    "print(\"Separating labels from features...\")\n",
    "\n",
    "features_list = [\n",
    "    \"factorized_model_key_\",\n",
    "    \"mileage\",\n",
    "    \"engine_power\",\n",
    "    \"factorized_fuel_\",\n",
    "    \"factorized_paint_color_\", \n",
    "    \"factorized_car_type\",\n",
    "    \"factorized_private_parking_available\", \n",
    "    \"factorized_has_gps\",\n",
    "    \"factorized_has_air_conditioning\", \n",
    "    \"factorized_automatic_car\",\n",
    "    \"factorized_has_getaround_connect\", \n",
    "    \"factorized_has_speed_regulator\",\n",
    "    \"factorized_winter_tires\"\n",
    "    ]\n",
    "\n",
    "target_variable = \"rental_price_per_day\"\n",
    "\n",
    "X = dataset.loc[:,features_list]\n",
    "Y = dataset.loc[:,target_variable]\n",
    "\n",
    "print(\"...Done.\")\n",
    "print()\n",
    "\n",
    "print('Y : ')\n",
    "print(Y.head())\n",
    "print()\n",
    "print('X :')\n",
    "print(X.head())"
   ]
  },
  {
   "cell_type": "code",
   "execution_count": 9,
   "metadata": {},
   "outputs": [
    {
     "name": "stdout",
     "output_type": "stream",
     "text": [
      "\n",
      "Found numeric features  ['factorized_model_key_', 'mileage', 'engine_power', 'factorized_fuel_', 'factorized_paint_color_', 'factorized_car_type', 'factorized_private_parking_available', 'factorized_has_gps', 'factorized_has_air_conditioning', 'factorized_automatic_car', 'factorized_has_getaround_connect', 'factorized_has_speed_regulator', 'factorized_winter_tires']\n",
      "\n",
      "Found categorical features  []\n"
     ]
    }
   ],
   "source": [
    "\n",
    "# Automatically detect names of numeric/categorical columns\n",
    "numeric_features = []\n",
    "categorical_features = []\n",
    "for i,t in X.dtypes.iteritems():\n",
    "    if ('float' in str(t)) or ('int' in str(t)) :\n",
    "        numeric_features.append(i)\n",
    "    else :\n",
    "        categorical_features.append(i)\n",
    "\n",
    "print('\\nFound numeric features ', numeric_features)\n",
    "print('\\nFound categorical features ', categorical_features)"
   ]
  },
  {
   "cell_type": "markdown",
   "metadata": {},
   "source": [
    "## Preprocessor\n",
    "Numeric features : standardizing, scaling, replacing remained missing values by median of column values\n",
    "Categorical features : one hot encoding as they are nominals"
   ]
  },
  {
   "cell_type": "code",
   "execution_count": 10,
   "metadata": {},
   "outputs": [],
   "source": [
    "# Create pipeline for numeric features\n",
    "numeric_transformer = Pipeline(steps=[\n",
    "    ('imputer', SimpleImputer(strategy='mean')), # missing values will be replaced by columns' mean\n",
    "    ('scaler', StandardScaler())\n",
    "])\n",
    "\n",
    "# Create pipeline for categorical features\n",
    "categorical_transformer = Pipeline(\n",
    "    steps=[\n",
    "    ('encoder', OneHotEncoder(drop='first')) # first column will be dropped to avoid creating correlations between features\n",
    "    ])\n",
    "\n",
    "# Use ColumnTransformer to make a preprocessor object that describes all the treatments to be done\n",
    "preprocessor = ColumnTransformer(\n",
    "    transformers=[\n",
    "        ('num', numeric_transformer, numeric_features),\n",
    "        ('cat', categorical_transformer, categorical_features)\n",
    "    ])"
   ]
  },
  {
   "cell_type": "markdown",
   "metadata": {},
   "source": [
    "## Defining train/test sets\n",
    "With the use of the train_test_split function, the dataset, 75% for training data and 25% for test data, is seperated."
   ]
  },
  {
   "cell_type": "code",
   "execution_count": 11,
   "metadata": {},
   "outputs": [
    {
     "name": "stdout",
     "output_type": "stream",
     "text": [
      "Preprocessing X_train...\n",
      "\n",
      "...Done!\n",
      "[[-1.07471708 -0.66545708  0.17682921 -0.19166494 -1.07659657 -0.97574804\n",
      "  -0.90299093 -0.50035804 -0.50438252 -0.49543042 -1.06851195 -1.80049946\n",
      "  -0.26619334]\n",
      " [ 0.24097843 -0.37452657 -1.14605515 -0.19166494  0.53196265 -0.36265653\n",
      "   1.10743084 -0.50035804 -0.50438252 -0.49543042  0.93588097 -1.80049946\n",
      "  -0.26619334]\n",
      " [-0.28529977 -0.65116955 -1.14605515 -0.19166494  0.53196265  0.25043497\n",
      "   1.10743084 -0.50035804  1.98262224 -0.49543042  0.93588097  0.55540144\n",
      "  -0.26619334]\n",
      " [ 0.24097843  0.13967266  0.17682921 -0.19166494  0.93410246  1.47661799\n",
      "  -0.90299093 -0.50035804 -0.50438252  2.0184469  -1.06851195  0.55540144\n",
      "  -0.26619334]\n",
      " [ 1.81981305  0.47936671  0.83827139 -0.19166494 -1.07659657  1.47661799\n",
      "   1.10743084 -0.50035804 -0.50438252  2.0184469   0.93588097  0.55540144\n",
      "  -0.26619334]]\n",
      "\n",
      "Preprocessing X_test...\n",
      "\n",
      "...Done!\n",
      "[[-1.07471708 -1.18910544  0.83827139 -0.19166494 -0.67445676 -0.97574804\n",
      "   1.10743084  1.99856887 -0.50438252 -0.49543042  0.93588097  0.55540144\n",
      "  -0.26619334]\n",
      " [-0.28529977  0.47845596  0.17682921 -0.19166494 -1.07659657  0.25043497\n",
      "   1.10743084 -0.50035804 -0.50438252 -0.49543042 -1.06851195  0.55540144\n",
      "  -0.26619334]\n",
      " [-0.54843887 -0.15080247  1.632002   -0.19166494 -1.07659657 -0.97574804\n",
      "  -0.90299093 -0.50035804 -0.50438252 -0.49543042 -1.06851195 -1.80049946\n",
      "  -0.26619334]\n",
      " [ 0.24097843  1.53262131 -1.14605515 -0.19166494 -1.07659657 -0.36265653\n",
      "   1.10743084  1.99856887 -0.50438252 -0.49543042  0.93588097  0.55540144\n",
      "  -0.26619334]\n",
      " [ 0.24097843  0.49418552  0.17682921 -0.19166494  0.93410246  1.47661799\n",
      "  -0.90299093 -0.50035804 -0.50438252  2.0184469  -1.06851195  0.55540144\n",
      "  -0.26619334]]\n",
      "\n"
     ]
    }
   ],
   "source": [
    "X_train, X_test, Y_train, Y_test = train_test_split(X, Y, test_size = 0.25, random_state=0)\n",
    "\n",
    "print(\"Preprocessing X_train...\")\n",
    "print()\n",
    "X_train = preprocessor.fit_transform(X_train)\n",
    "print(\"...Done!\")\n",
    "print(X_train[0:5,:]) # X_train is now a numpy array\n",
    "print()\n",
    "\n",
    "# Test pipeline\n",
    "print(\"Preprocessing X_test...\")\n",
    "print()\n",
    "X_test = preprocessor.transform(X_test) # Don't fit again !! The test set is used for validating decisions\n",
    "# we made based on the training set, therefore we can only apply transformations that were parametered using the training set.\n",
    "# Otherwise this creates what is called a leak from the test set which will introduce a bias in all your results.\n",
    "print(\"...Done!\")\n",
    "print(X_test[0:5,:]) # X_test is now a numpy array\n",
    "print()"
   ]
  },
  {
   "cell_type": "markdown",
   "metadata": {},
   "source": [
    "## Metric and evalutation process\n",
    "We use the root mean squared error (RMSE) to assess the performance of the models since we try to predict rental price per day. The resulted error value will be in dollars and easy to comprehend.\n",
    "\n",
    "We use the cross_val_score function of sklearn to evaluate a score by cross-validation.\n",
    "\n",
    "Then, we use the function Kfold where shuffle = True to allow a shuffle attribution as cross_val_score does not have this option."
   ]
  },
  {
   "cell_type": "code",
   "execution_count": 12,
   "metadata": {},
   "outputs": [],
   "source": [
    "#root mean squared error for 5-folds cross validation\n",
    "n_folds = 4\n",
    "random_state = 0\n",
    "def rmse_cv(model,random_state,n_folds, x, y):\n",
    "    random_state = random_state\n",
    "    n_folds = n_folds\n",
    "    kf = KFold(n_folds, shuffle=True, random_state=random_state).split(X_train)\n",
    "    rmse= np.sqrt(-cross_val_score(model, x, y, scoring=\"neg_mean_squared_error\", cv = kf))\n",
    "    return(rmse)"
   ]
  },
  {
   "cell_type": "markdown",
   "metadata": {},
   "source": [
    "## Baseline regressor\n",
    "I choose a dummy model below that systematically predict the mean target value. Then, I compute RMSE cross validation score for this dummy model. It can give an idea whether our models improve the predictions really or not."
   ]
  },
  {
   "cell_type": "code",
   "execution_count": 14,
   "metadata": {},
   "outputs": [
    {
     "name": "stdout",
     "output_type": "stream",
     "text": [
      "Dummy predictions' score : RMSE = 28.97 with a standard deviation of 0.72\n"
     ]
    }
   ],
   "source": [
    "dummy_predictions_scores = []\n",
    "\n",
    "for test_fold in np.array_split(Y_train, 4):\n",
    "    mean_value_vector = np.full(len(test_fold), Y_train.mean())\n",
    "    score = mean_squared_error(y_true = test_fold, y_pred= mean_value_vector ,squared = False)\n",
    "    dummy_predictions_scores.append(score)\n",
    "\n",
    "dummy_predictions_scores = np.array(dummy_predictions_scores)\n",
    "print(\"Dummy predictions' score : RMSE = {} with a standard deviation of {}\"\\\n",
    "    .format(round(dummy_predictions_scores.mean(),2), round(dummy_predictions_scores.std(),2)))"
   ]
  },
  {
   "cell_type": "markdown",
   "metadata": {},
   "source": [
    "## Linear regression\n",
    "\n",
    "Let's start with basic linear regressor"
   ]
  },
  {
   "cell_type": "code",
   "execution_count": 15,
   "metadata": {},
   "outputs": [
    {
     "name": "stdout",
     "output_type": "stream",
     "text": [
      "simple linear regression : RMSE = 16.35 with a standard deviation of 0.21\n"
     ]
    }
   ],
   "source": [
    "# create model\n",
    "linear_regressor= LinearRegression()\n",
    "# computing cross validation scores\n",
    "linear_regression_scores = rmse_cv(linear_regressor,random_state, n_folds, X_train, Y_train)\n",
    "\n",
    "print(\"simple linear regression : RMSE = {} with a standard deviation of {}\".format(round(linear_regression_scores.mean(),2), round(linear_regression_scores.std(),2)))"
   ]
  },
  {
   "cell_type": "markdown",
   "metadata": {},
   "source": [
    "## Lasso regularization\n",
    "\n",
    "Then, I consider lasso regression model and pick the best tuning parameter with the cross validation and rmse function"
   ]
  },
  {
   "cell_type": "code",
   "execution_count": 16,
   "metadata": {},
   "outputs": [
    {
     "name": "stdout",
     "output_type": "stream",
     "text": [
      "...Done.\n",
      "Best hyperparameters :  {'alpha': 0.1}\n",
      "Best validation accuracy :  0.6818824138883445\n"
     ]
    }
   ],
   "source": [
    "# create model\n",
    "regressor = Lasso(random_state=random_state)\n",
    "\n",
    "# Grid of values to be tested\n",
    "params = {\n",
    "    'alpha': [0.001, 0.01, 0.1]\n",
    "}\n",
    "\n",
    "gridsearch = GridSearchCV(regressor, param_grid = params, cv = 4) # cv : the number of folds to be used for CV\n",
    "gridsearch.fit(X_train, Y_train)\n",
    "print(\"...Done.\")\n",
    "print(\"Best hyperparameters : \", gridsearch.best_params_)\n",
    "print(\"Best validation accuracy : \", gridsearch.best_score_)"
   ]
  },
  {
   "cell_type": "markdown",
   "metadata": {},
   "source": [
    "## Elastic Net regressor\n",
    "\n",
    "Elastic net is a combination of the two regularized linear regression: ridge and lasso. Elastic net uses both the L2 and the L1 penalties.\n",
    "\n",
    "I define Enet regressor and fine tune parameters below."
   ]
  },
  {
   "cell_type": "code",
   "execution_count": 17,
   "metadata": {},
   "outputs": [
    {
     "name": "stdout",
     "output_type": "stream",
     "text": [
      "Grid search...\n",
      "...Done.\n",
      "Best hyperparameters :  {'alpha': 0.01, 'l1_ratio': 0.15}\n",
      "Best validation accuracy :  0.6818072591297211\n"
     ]
    }
   ],
   "source": [
    "# Perform grid search\n",
    "print(\"Grid search...\")\n",
    "regressor = ElasticNet(random_state=random_state)\n",
    "# Grid of values to be tested\n",
    "params = {\n",
    "    'alpha': [0.001, 0.01], \n",
    "    'l1_ratio': [0.05,0.15], \n",
    "}\n",
    "\n",
    "gridsearch = GridSearchCV(regressor, param_grid = params, cv = 4) # cv : the number of folds to be used for CV\n",
    "gridsearch.fit(X_train, Y_train)\n",
    "print(\"...Done.\")\n",
    "print(\"Best hyperparameters : \", gridsearch.best_params_)\n",
    "print(\"Best validation accuracy : \", gridsearch.best_score_)"
   ]
  },
  {
   "cell_type": "markdown",
   "metadata": {},
   "source": [
    "## XGBoost\n",
    "\n",
    "XGBoost is a boosting ensemble method that also use decision trees and bootstrapping but builds sequentialy several models while taking into account prediction errors as it goes, and then combining the different models. \n",
    "\n",
    "I define XGBoost regressor and then do fine tuning."
   ]
  },
  {
   "cell_type": "code",
   "execution_count": 18,
   "metadata": {},
   "outputs": [
    {
     "name": "stdout",
     "output_type": "stream",
     "text": [
      "Grid search...\n",
      "...Done.\n",
      "Best hyperparameters :  {'colsample_bytree': 0.9, 'learning_rate': 0.05, 'max_depth': 8, 'n_estimators': 250, 'subsample': 0.8}\n",
      "Best validation accuracy :  0.7912047909097997\n"
     ]
    }
   ],
   "source": [
    "# Perform grid search\n",
    "print(\"Grid search...\")\n",
    "regressor = xgb.XGBRegressor()\n",
    "\n",
    "# Grid of values to be tested\n",
    "\n",
    "params = {\n",
    "    'max_depth': [4, 8],\n",
    "    'learning_rate': [0.05, 0.1],\n",
    "    'n_estimators': [100, 250],\n",
    "    'colsample_bytree': [0.9],\n",
    "    'subsample': [0.8],\n",
    "}\n",
    "\n",
    "gridsearch = GridSearchCV(regressor, param_grid = params, cv = 4) # cv : the number of folds to be used for CV\n",
    "gridsearch.fit(X_train, Y_train)\n",
    "print(\"...Done.\")\n",
    "print(\"Best hyperparameters : \", gridsearch.best_params_)\n",
    "print(\"Best validation accuracy : \", gridsearch.best_score_)"
   ]
  },
  {
   "cell_type": "markdown",
   "metadata": {},
   "source": [
    "The advantage of using XGBoost is that we can obtain feature importances below."
   ]
  },
  {
   "cell_type": "code",
   "execution_count": 19,
   "metadata": {},
   "outputs": [
    {
     "name": "stdout",
     "output_type": "stream",
     "text": [
      "train RMSE :  9.2\n",
      "test RMSE :  12.79\n"
     ]
    }
   ],
   "source": [
    "# create model\n",
    "xgb_regressor = xgb.XGBRegressor(\n",
    "    max_depth=4,\n",
    "    learning_rate=0.1,\n",
    "    n_estimators=300,\n",
    "    colsample_bytree=0.9,\n",
    "    subsample=0.8,\n",
    "    random_state =0\n",
    "    )\n",
    "\n",
    "# fit the model with the full train set and predict values for full train an test sets\n",
    "xgb_regressor.fit(X_train, Y_train)\n",
    "Y_train_pred = xgb_regressor.predict(X_train)\n",
    "Y_test_pred = xgb_regressor.predict(X_test)\n",
    "\n",
    "\n",
    "# score full train set\n",
    "xgb_rmse_train = mean_squared_error(Y_train, Y_train_pred, squared=False)\n",
    "print('train RMSE : ', round(xgb_rmse_train,2))\n",
    "\n",
    "# score test set\n",
    "xgb_rmse_test = mean_squared_error(Y_test, Y_test_pred, squared=False)\n",
    "print('test RMSE : ', round(xgb_rmse_test,2))\n"
   ]
  },
  {
   "cell_type": "code",
   "execution_count": 20,
   "metadata": {},
   "outputs": [
    {
     "data": {
      "text/plain": [
       "Text(0.5, 0, 'XGBoost Feature Importance')"
      ]
     },
     "execution_count": 20,
     "metadata": {},
     "output_type": "execute_result"
    },
    {
     "data": {
      "image/png": "[encoded data removed]",
      "text/plain": [
       "<Figure size 720x720 with 1 Axes>"
      ]
     },
     "metadata": {
      "needs_background": "light"
     },
     "output_type": "display_data"
    }
   ],
   "source": [
    "# plot feature importance\n",
    "# The importance score is a measure of how often the feature was selected for splitting\n",
    "# and how much gain in purity was achieved as a result of the selection\n",
    "sorted_idx = xgb_regressor.feature_importances_.argsort()\n",
    "plt.figure(figsize=(10, 10))\n",
    "sns.set()\n",
    "sns.barplot(y = X.columns[sorted_idx], x = xgb_regressor.feature_importances_[sorted_idx])\n",
    "plt.xlabel(\"XGBoost Feature Importance\")"
   ]
  },
  {
   "cell_type": "markdown",
   "metadata": {},
   "source": [
    "**Summary XGBoost**\n",
    "\n",
    "There are seven parameters with a feature importance more than 5%. These features are listed below:\n",
    "\n",
    "* automatic_car\n",
    "* engine_power\n",
    "* has_getaround_connect\n",
    "* has_gps\n",
    "* mileage\n",
    "* fuel_\n",
    "* model_key_"
   ]
  },
  {
   "cell_type": "markdown",
   "metadata": {},
   "source": [
    "## Random forest regressor"
   ]
  },
  {
   "cell_type": "code",
   "execution_count": 21,
   "metadata": {},
   "outputs": [
    {
     "name": "stdout",
     "output_type": "stream",
     "text": [
      "Grid search...\n",
      "...Done.\n",
      "Best hyperparameters :  {'max_depth': 25, 'min_samples_split': 4, 'n_estimators': 300}\n",
      "Best validation accuracy :  0.7729903503240972\n"
     ]
    }
   ],
   "source": [
    "# Perform grid search\n",
    "print(\"Grid search...\")\n",
    "regressor = RandomForestRegressor()\n",
    "\n",
    "# Grid of values to be tested\n",
    "params = {\n",
    "    'max_depth': [12, 25],\n",
    "    'min_samples_split': [4],\n",
    "    'n_estimators': [50, 300]\n",
    "}\n",
    "\n",
    "gridsearch = GridSearchCV(regressor, param_grid = params, cv = 4) # cv : the number of folds to be used for CV\n",
    "gridsearch.fit(X_train, Y_train)\n",
    "print(\"...Done.\")\n",
    "print(\"Best hyperparameters : \", gridsearch.best_params_)\n",
    "print(\"Best validation accuracy : \", gridsearch.best_score_)"
   ]
  },
  {
   "cell_type": "code",
   "execution_count": 22,
   "metadata": {},
   "outputs": [
    {
     "name": "stdout",
     "output_type": "stream",
     "text": [
      "train RMSE :  5.978955010933849\n",
      "test RMSE :  13.242892690910853\n"
     ]
    }
   ],
   "source": [
    "# fit the model with the full train set and predict values for full train an test sets\n",
    "# create model\n",
    "random_forest_regressor = RandomForestRegressor(\n",
    "    n_estimators= 300,\n",
    "    max_depth= 25,\n",
    "    min_samples_split= 4,\n",
    "    random_state= random_state\n",
    ")\n",
    "\n",
    "random_forest_regressor.fit(X_train, Y_train)\n",
    "Y_train_pred = random_forest_regressor.predict(X_train)\n",
    "Y_test_pred = random_forest_regressor.predict(X_test)\n",
    "\n",
    "# score full train set\n",
    "random_forest_rmse_train = mean_squared_error(Y_train, Y_train_pred, squared=False)\n",
    "print('train RMSE : ', random_forest_rmse_train)\n",
    "\n",
    "# score test set\n",
    "random_forest_rmse_test = mean_squared_error(Y_test, Y_test_pred, squared=False)\n",
    "print('test RMSE : ', random_forest_rmse_test)"
   ]
  },
  {
   "cell_type": "code",
   "execution_count": 23,
   "metadata": {},
   "outputs": [
    {
     "data": {
      "text/plain": [
       "Text(0.5, 0, 'Random forest feature importance')"
      ]
     },
     "execution_count": 23,
     "metadata": {},
     "output_type": "execute_result"
    },
    {
     "data": {
      "image/png": "[encoded data removed]",
      "text/plain": [
       "<Figure size 720x720 with 1 Axes>"
      ]
     },
     "metadata": {},
     "output_type": "display_data"
    }
   ],
   "source": [
    "# plot feature importance\n",
    "# The importance score is a measure of how often the feature was selected for splitting\n",
    "# and how much gain in purity was achieved as a result of the selection\n",
    "sorted_idx = random_forest_regressor.feature_importances_.argsort()\n",
    "plt.figure(figsize=(10, 10))\n",
    "sns.barplot(y = X.columns[sorted_idx], x = random_forest_regressor.feature_importances_[sorted_idx])\n",
    "plt.xlabel(\"Random forest feature importance\")"
   ]
  },
  {
   "cell_type": "markdown",
   "metadata": {},
   "source": [
    "**Summary of Random Forest Regressor**\n",
    "\n",
    "There are three parameters with a feature importance listed more than 5%. These features are listed below:\n",
    "\n",
    "* engine_power\n",
    "* mileage\n",
    "* model_key_\n",
    "\n",
    "We can say that random forest model prediction model is very sensitive to these three features. \n"
   ]
  },
  {
   "cell_type": "markdown",
   "metadata": {},
   "source": [
    "## Evaluating robustness of ML models with cross validation\n",
    "\n",
    "Below, I run the Python script on ML model testing with cross validation and saving scores. I updated this script after finetuning above."
   ]
  },
  {
   "cell_type": "code",
   "execution_count": 24,
   "metadata": {},
   "outputs": [],
   "source": [
    "#os.chdir('..//src')\n",
    "#%run ml_model_testing.py"
   ]
  },
  {
   "cell_type": "markdown",
   "metadata": {},
   "source": [
    "## Summary of ML experiments"
   ]
  },
  {
   "cell_type": "code",
   "execution_count": 25,
   "metadata": {},
   "outputs": [],
   "source": [
    "flog = \"..\\\\tracking\\\\exp_logs.csv\"\n",
    "df0 = pd.read_csv(flog)"
   ]
  },
  {
   "cell_type": "code",
   "execution_count": 26,
   "metadata": {},
   "outputs": [],
   "source": [
    "#define the metric name: \n",
    "# 'rmse_cv', 'r2_score_cv','rmsle_cv', 'mape_cv', 'evs_cv'\n",
    "metric = 'rmse_cv'\n",
    "\n",
    "#converting text into a list, creating a proper model name, and then exploding df\n",
    "df0['index'] = df0.index\n",
    "df0[metric+'_'] = df0[metric].apply(lambda x: x.replace(\"  \",\" \").\\\n",
    "                             replace(\"  \",\" \").replace(\" ]\",\"]\").\\\n",
    "                             replace(\"[\",\"\").replace(\"]\",\"\").split(\" \")) \n",
    "                          \n",
    "df0['model_'] = df0['model'].apply(lambda x: x.split('(')[0]) \n",
    "df0['model_'] =  df0['index'].astype(str) + '_' +df0['model_']  \n",
    "\n",
    "df1 = df0.explode(metric + '_').reset_index(drop=True)\n",
    "df1[metric+'_']= df1[metric+'_'].astype(float)"
   ]
  },
  {
   "cell_type": "code",
   "execution_count": 27,
   "metadata": {},
   "outputs": [
    {
     "data": {
      "image/png": "[encoded data removed]",
      "text/plain": [
       "<Figure size 864x432 with 1 Axes>"
      ]
     },
     "metadata": {},
     "output_type": "display_data"
    }
   ],
   "source": [
    "sns.set_theme()\n",
    "g = sns.catplot(data=df1, y='model_',x= 'rmse_cv_',\n",
    "    capsize=.2, palette=\"YlGnBu_d\", errorbar=\"se\",\n",
    "    kind=\"point\", height=6, aspect=2. )\n",
    "g.set_axis_labels(\"Root-mean squared error ($) from cross validation on test set\", \"Experiment No + Model Name\")\n",
    "g.savefig('..\\\\tracking\\\\rmse_scores_experiments.png')"
   ]
  },
  {
   "cell_type": "markdown",
   "metadata": {},
   "source": [
    "**Summary of ML Model Experiements**\n",
    "\n",
    "The test scores of Random Forest and XGBoost regressors are 13.6 and 12.8, respectively. \n",
    "\n",
    "XGBoost is the best model with more balanced sensitivity to its features. I select XGBoost to use as a predictive model in deployment."
   ]
  },
  {
   "cell_type": "markdown",
   "metadata": {},
   "source": [
    "## Training final model to export"
   ]
  },
  {
   "cell_type": "code",
   "execution_count": 28,
   "metadata": {},
   "outputs": [
    {
     "name": "stdout",
     "output_type": "stream",
     "text": [
      "Separating labels from features...\n",
      "...Done.\n",
      "\n",
      "Y : \n",
      "0    106\n",
      "1    101\n",
      "2    158\n",
      "3    183\n",
      "4    131\n",
      "Name: rental_price_per_day, dtype: int64\n",
      "\n",
      "X :\n",
      "  model_key_  mileage  engine_power   fuel_ paint_color_     car_type  \\\n",
      "0    Citroën   140411           100  diesel        black  convertible   \n",
      "1    Citroën   183297           120  diesel        white  convertible   \n",
      "2    Citroën   128035           135  diesel          red  convertible   \n",
      "3    Citroën    97097           160  diesel       silver  convertible   \n",
      "4    Citroën   152352           225  petrol        black  convertible   \n",
      "\n",
      "   private_parking_available  has_gps  has_air_conditioning  automatic_car  \\\n",
      "0                       True     True                 False          False   \n",
      "1                      False    False                 False          False   \n",
      "2                       True     True                 False          False   \n",
      "3                       True     True                 False          False   \n",
      "4                       True     True                 False          False   \n",
      "\n",
      "   has_getaround_connect  has_speed_regulator  winter_tires  \n",
      "0                   True                 True          True  \n",
      "1                   True                False          True  \n",
      "2                   True                 True          True  \n",
      "3                  False                 True          True  \n",
      "4                   True                 True          True  \n"
     ]
    }
   ],
   "source": [
    "# Separate target variable Y from features X\n",
    "print(\"Separating labels from features...\")\n",
    "\n",
    "features_list = [\n",
    "    \"model_key_\",\n",
    "    \"mileage\",\n",
    "    \"engine_power\",\n",
    "    \"fuel_\",\n",
    "    \"paint_color_\", \n",
    "    \"car_type\",\n",
    "    \"private_parking_available\", \n",
    "    \"has_gps\",\n",
    "    \"has_air_conditioning\", \n",
    "    \"automatic_car\",\n",
    "    \"has_getaround_connect\", \n",
    "    \"has_speed_regulator\",\n",
    "    \"winter_tires\"\n",
    "    ]\n",
    "\n",
    "target_variable = \"rental_price_per_day\"\n",
    "\n",
    "X = dataset.loc[:,features_list]\n",
    "Y = dataset.loc[:,target_variable]\n",
    "\n",
    "print(\"...Done.\")\n",
    "print()\n",
    "\n",
    "print('Y : ')\n",
    "print(Y.head())\n",
    "print()\n",
    "print('X :')\n",
    "print(X.head())"
   ]
  },
  {
   "cell_type": "code",
   "execution_count": 29,
   "metadata": {},
   "outputs": [
    {
     "name": "stdout",
     "output_type": "stream",
     "text": [
      "\n",
      "Found numeric features  ['mileage', 'engine_power']\n",
      "\n",
      "Found categorical features  ['model_key_', 'fuel_', 'paint_color_', 'car_type', 'private_parking_available', 'has_gps', 'has_air_conditioning', 'automatic_car', 'has_getaround_connect', 'has_speed_regulator', 'winter_tires']\n"
     ]
    }
   ],
   "source": [
    "# Automatically detect names of numeric/categorical columns\n",
    "numeric_features = []\n",
    "categorical_features = []\n",
    "for i,t in X.dtypes.iteritems():\n",
    "    if ('float' in str(t)) or ('int' in str(t)) :\n",
    "        numeric_features.append(i)\n",
    "    else :\n",
    "        categorical_features.append(i)\n",
    "\n",
    "print('\\nFound numeric features ', numeric_features)\n",
    "print('\\nFound categorical features ', categorical_features)"
   ]
  },
  {
   "cell_type": "code",
   "execution_count": 30,
   "metadata": {},
   "outputs": [],
   "source": [
    "# Create pipeline for numeric features\n",
    "numeric_transformer = Pipeline(steps=[\n",
    "    ('imputer', SimpleImputer(strategy='mean')), # missing values will be replaced by columns' mean\n",
    "    ('scaler', StandardScaler())\n",
    "])\n",
    "\n",
    "# Create pipeline for categorical features\n",
    "categorical_transformer = Pipeline(\n",
    "    steps=[\n",
    "    ('encoder', OneHotEncoder(drop='first')) # first column will be dropped to avoid creating correlations between features\n",
    "    ])\n",
    "\n",
    "# Use ColumnTransformer to make a preprocessor object that describes all the treatments to be done\n",
    "preprocessor = ColumnTransformer(\n",
    "    transformers=[\n",
    "        ('num', numeric_transformer, numeric_features),\n",
    "        ('cat', categorical_transformer, categorical_features)\n",
    "    ])"
   ]
  },
  {
   "cell_type": "code",
   "execution_count": 31,
   "metadata": {},
   "outputs": [
    {
     "name": "stdout",
     "output_type": "stream",
     "text": [
      "Preprocessing X_train...\n",
      "\n",
      "...Done!\n",
      "  (0, 0)\t-0.6654570827503969\n",
      "  (0, 1)\t0.17682920572847943\n",
      "  (0, 3)\t1.0\n",
      "  (0, 19)\t1.0\n",
      "  (0, 28)\t1.0\n",
      "  (0, 34)\t1.0\n",
      "  (0, 35)\t1.0\n",
      "  (0, 38)\t1.0\n",
      "  (0, 39)\t1.0\n",
      "  (0, 40)\t1.0\n",
      "  (1, 0)\t-0.37452657210369406\n",
      "  (1, 1)\t-1.1460551530880017\n",
      "  (1, 2)\t1.0\n",
      "  (1, 22)\t1.0\n",
      "  (1, 29)\t1.0\n",
      "  (1, 35)\t1.0\n",
      "  (1, 39)\t1.0\n",
      "  (1, 40)\t1.0\n",
      "  (2, 0)\t-0.6511695542486708\n",
      "  (2, 1)\t-1.1460551530880017\n",
      "  (2, 11)\t1.0\n",
      "  (2, 22)\t1.0\n",
      "  (2, 30)\t1.0\n",
      "  (2, 35)\t1.0\n",
      "  (2, 36)\t1.0\n",
      "  (2, 40)\t1.0\n",
      "  (3, 0)\t0.13967266082695545\n",
      "  (3, 1)\t0.17682920572847943\n",
      "  (3, 2)\t1.0\n",
      "  (3, 20)\t1.0\n",
      "  (3, 32)\t1.0\n",
      "  (3, 34)\t1.0\n",
      "  (3, 35)\t1.0\n",
      "  (3, 37)\t1.0\n",
      "  (3, 38)\t1.0\n",
      "  (3, 40)\t1.0\n",
      "  (4, 0)\t0.47936671496560557\n",
      "  (4, 1)\t0.8382713851367201\n",
      "  (4, 7)\t1.0\n",
      "  (4, 19)\t1.0\n",
      "  (4, 32)\t1.0\n",
      "  (4, 35)\t1.0\n",
      "  (4, 37)\t1.0\n",
      "  (4, 40)\t1.0\n",
      "\n",
      "Preprocessing X_test...\n",
      "\n",
      "...Done!\n",
      "  (0, 0)\t-1.189105438116451\n",
      "  (0, 1)\t0.8382713851367201\n",
      "  (0, 3)\t1.0\n",
      "  (0, 26)\t1.0\n",
      "  (0, 28)\t1.0\n",
      "  (0, 40)\t1.0\n",
      "  (1, 0)\t0.47845595617665093\n",
      "  (1, 1)\t0.17682920572847943\n",
      "  (1, 11)\t1.0\n",
      "  (1, 19)\t1.0\n",
      "  (1, 30)\t1.0\n",
      "  (1, 35)\t1.0\n",
      "  (1, 38)\t1.0\n",
      "  (1, 40)\t1.0\n",
      "  (2, 0)\t-0.15080247042527012\n",
      "  (2, 1)\t1.6320020004266087\n",
      "  (2, 9)\t1.0\n",
      "  (2, 19)\t1.0\n",
      "  (2, 28)\t1.0\n",
      "  (2, 34)\t1.0\n",
      "  (2, 35)\t1.0\n",
      "  (2, 38)\t1.0\n",
      "  (2, 39)\t1.0\n",
      "  (2, 40)\t1.0\n",
      "  (3, 0)\t1.532621306108792\n",
      "  (3, 1)\t-1.1460551530880017\n",
      "  (3, 2)\t1.0\n",
      "  (3, 19)\t1.0\n",
      "  (3, 29)\t1.0\n",
      "  (3, 40)\t1.0\n",
      "  (4, 0)\t0.4941855194275553\n",
      "  (4, 1)\t0.17682920572847943\n",
      "  (4, 2)\t1.0\n",
      "  (4, 20)\t1.0\n",
      "  (4, 32)\t1.0\n",
      "  (4, 34)\t1.0\n",
      "  (4, 35)\t1.0\n",
      "  (4, 37)\t1.0\n",
      "  (4, 38)\t1.0\n",
      "  (4, 40)\t1.0\n",
      "\n"
     ]
    }
   ],
   "source": [
    "X_train, X_test, Y_train, Y_test = train_test_split(X, Y, test_size = 0.25, random_state=0)\n",
    "\n",
    "print(\"Preprocessing X_train...\")\n",
    "print()\n",
    "X_train = preprocessor.fit_transform(X_train)\n",
    "print(\"...Done!\")\n",
    "print(X_train[0:5,:]) # X_train is now a numpy array\n",
    "print()\n",
    "\n",
    "# Test pipeline\n",
    "print(\"Preprocessing X_test...\")\n",
    "print()\n",
    "X_test = preprocessor.transform(X_test) # Don't fit again !! The test set is used for validating decisions\n",
    "# we made based on the training set, therefore we can only apply transformations that were parametered using the training set.\n",
    "# Otherwise this creates what is called a leak from the test set which will introduce a bias in all your results.\n",
    "print(\"...Done!\")\n",
    "print(X_test[0:5,:]) # X_test is now a numpy array\n",
    "print()"
   ]
  },
  {
   "cell_type": "code",
   "execution_count": 32,
   "metadata": {},
   "outputs": [
    {
     "name": "stdout",
     "output_type": "stream",
     "text": [
      "train RMSE :  9.23\n",
      "test RMSE :  12.76\n"
     ]
    }
   ],
   "source": [
    "# create model\n",
    "xgb_regressor = xgb.XGBRegressor(\n",
    "    max_depth=4,\n",
    "    learning_rate=0.1,\n",
    "    n_estimators=300,\n",
    "    colsample_bytree=0.9,\n",
    "    subsample=0.8,\n",
    "    random_state =0\n",
    "    )\n",
    "\n",
    "# fit the model with the full train set and predict values for full train an test sets\n",
    "xgb_regressor.fit(X_train, Y_train)\n",
    "Y_train_pred = xgb_regressor.predict(X_train)\n",
    "Y_test_pred = xgb_regressor.predict(X_test)\n",
    "\n",
    "\n",
    "# score full train set\n",
    "xgb_rmse_train = mean_squared_error(Y_train, Y_train_pred, squared=False)\n",
    "print('train RMSE : ', round(xgb_rmse_train,2))\n",
    "\n",
    "# score test set\n",
    "xgb_rmse_test = mean_squared_error(Y_test, Y_test_pred, squared=False)\n",
    "print('test RMSE : ', round(xgb_rmse_test,2))"
   ]
  },
  {
   "cell_type": "code",
   "execution_count": 33,
   "metadata": {},
   "outputs": [
    {
     "data": {
      "text/plain": [
       "['../api/finalmodel.joblib']"
      ]
     },
     "execution_count": 33,
     "metadata": {},
     "output_type": "execute_result"
    }
   ],
   "source": [
    "# dumping models\n",
    "joblib.dump(preprocessor, \"../api/prepro.joblib\")\n",
    "joblib.dump(xgb_regressor, \"../api/finalmodel.joblib\")"
   ]
  },
  {
   "cell_type": "markdown",
   "metadata": {},
   "source": [
    "-_-_-_-_- End of Notebook -_-_-_-_-\n",
    "# End"
   ]
  }
 ],
 "metadata": {
  "kernelspec": {
   "display_name": "Python 3.9.12 64-bit ('Anaconda3')",
   "language": "python",
   "name": "python3"
  },
  "language_info": {
   "codemirror_mode": {
    "name": "ipython",
    "version": 3
   },
   "file_extension": ".py",
   "mimetype": "text/x-python",
   "name": "python",
   "nbconvert_exporter": "python",
   "pygments_lexer": "ipython3",
   "version": "3.9.12"
  },
  "orig_nbformat": 4,
  "vscode": {
   "interpreter": {
    "hash": "ad2bdc8ecc057115af97d19610ffacc2b4e99fae6737bb82f5d7fb13d2f2c186"
   }
  }
 },
 "nbformat": 4,
 "nbformat_minor": 2
}
